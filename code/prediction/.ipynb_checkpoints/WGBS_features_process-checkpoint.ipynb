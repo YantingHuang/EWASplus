{
 "cells": [
  {
   "cell_type": "code",
   "execution_count": 1,
   "metadata": {
    "collapsed": false
   },
   "outputs": [],
   "source": [
    "import os\n",
    "import sys\n",
    "from common import commons\n",
    "home = commons.home\n",
    "extra_storage = commons.extra_storage\n",
    "from features_preprocess import BED_binning\n",
    "from features_preprocess import BED_Preprocess, CADD_Preprocess,DANN_Preprocess,Eigen_Preprocess,GenoCanyon_Preprocess\n",
    "import subprocess\n",
    "import pandas as pd\n",
    "from features_preprocess import get_winid\n",
    "import prediction_commons\n",
    "import numpy as np\n",
    "import re\n",
    "from pyliftover import LiftOver\n",
    "from features_preprocess import WGBS_preprocess"
   ]
  },
  {
   "cell_type": "code",
   "execution_count": 2,
   "metadata": {
    "collapsed": false
   },
   "outputs": [],
   "source": [
    "def wgbs_sites_selection(tss,allsites):\n",
    "    tss = tss.sort_values(['chr','coordinate'])\n",
    "    allsites = all_sites.sort_values(['chr','coordinate'])\n",
    "    i = 0\n",
    "    selected_sites = []\n",
    "    #selected_sites = pd.DataFrame(columns=['chr','coordinate','tss_coordinate'])\n",
    "    tss['before'] = tss['coordinate']-100000\n",
    "    tss['after'] = tss['coordinate']+100000\n",
    "    for row in allsites.iterrows():\n",
    "        if i >= len(tss):\n",
    "            break\n",
    "        chr = row[1]['chr']\n",
    "        coordinate = row[1]['coordinate']\n",
    "        winid = row[1]['winid']\n",
    "        if chr==tss.ix[i,'chr'] and coordinate>=tss.ix[i,'before'] and coordinate<=tss.ix[i,'after']:\n",
    "            selected_sites.extend([[winid,chr,coordinate,tss.ix[i,'chr'],tss.ix[i,'coordinate']]])\n",
    "        else:\n",
    "            while  i<len(tss) and (chr>tss.ix[i,'chr'] or (chr==tss.ix[i,'chr'] and coordinate>tss.ix[i,'after'])):\n",
    "                i += 1\n",
    "            if i<len(tss) and chr==tss.ix[i,'chr'] and coordinate>=tss.ix[i,'before'] and coordinate<=tss.ix[i,'after']:\n",
    "                selected_sites.extend([[winid,chr,coordinate,tss.ix[i,'chr'],tss.ix[i,'coordinate']]])\n",
    "    df = pd.DataFrame(selected_sites,columns=['winid','chr','coordinate','tss_chr','tss_coordinate'])\n",
    "    df['chr'] = df['chr'].astype('i8')\n",
    "    return df\n",
    "\n",
    "\n",
    "def nearest_tss(tss,sites_df):\n",
    "    merged = pd.merge(sites_df,tss,how='outer',on=['chr','coordinate'])\n",
    "    merged.sort_values(['chr','coordinate'],inplace=True)\n",
    "    merged.rename(columns={'strand':'before_tss'},inplace=True)\n",
    "    merged.ix[merged['before_tss'].isnull()==False, 'before_tss'] = merged.ix[merged['before_tss'].isnull()==False,'coordinate']\n",
    "    merged['after_tss'] = merged['before_tss']\n",
    "    merged['before_tss'].fillna(method='ffill', inplace=True)\n",
    "    merged['after_tss'].fillna(method='bfill',inplace=True)\n",
    "    merged['dist_to_before_tss'] = np.abs(merged['coordinate']-merged['before_tss'])\n",
    "    merged['dist_to_after_tss'] = np.abs(merged['coordinate']-merged['after_tss'])\n",
    "    merged['tss'] = None\n",
    "    before_ix = (merged['dist_to_before_tss'] < merged['dist_to_after_tss']) | (merged['dist_to_after_tss'].isnull())\n",
    "    merged.ix[before_ix,'tss'] = merged.ix[before_ix,'before_tss']\n",
    "    after_ix = (merged['dist_to_before_tss'] >= merged['dist_to_after_tss']) | (merged['dist_to_before_tss'].isnull())\n",
    "    merged.ix[after_ix,'tss'] = merged.ix[after_ix,'after_tss']\n",
    "    merged['dist_to_nearest_tss'] = np.abs(merged['coordinate']-merged['tss'])\n",
    "    merged.drop(['before_tss','after_tss','tss','dist_to_before_tss','dist_to_after_tss'],axis=1,inplace=True)\n",
    "    merged.dropna(axis=0,inplace=True)\n",
    "    return merged\n",
    "\n",
    "def rename_features(x):   #rename repetitive features\n",
    "    features = np.array(x.columns)\n",
    "    features_count = pd.Series(index=x.columns.unique())\n",
    "    features_count = features_count.fillna(int(0))\n",
    "    for i,name in enumerate(x.columns):\n",
    "        if features_count[name] == 0:\n",
    "            features_count[name] += 1\n",
    "        else:\n",
    "            features[i] = name+str(features_count[name])\n",
    "            features_count[name] += 1\n",
    "    x.columns = features\n",
    "    return \n",
    "\n",
    "def read_WGBS(file):\n",
    "    bed = pd.read_csv(file,usecols=[0,1,2,5,9,10],header=None,names=['chr','pos1','pos2','strand','total','percent'],sep='\\s+')\n",
    "    bed['coordinate'] = np.where(bed['strand']=='+',bed['pos1'],bed['pos1']-1)\n",
    "    bed.drop(['pos1','pos2'],axis=1,inplace=True)\n",
    "    bed['count'] = np.round(bed['total']*bed['percent']/100.0)\n",
    "    bed.drop(['total','percent'],axis=1,inplace=True)\n",
    "    bed = bed.groupby(['chr','coordinate']).aggregate({'count':sum}).reset_index()\n",
    "    \n",
    "    #    bed_counts = bed.groupby(['chr','coordinate']).aggregate({'count':sum})\n",
    "    return bed\n",
    "\n",
    "def hg38tohg19(row):\n",
    "    global lo\n",
    "    hg19 = lo.convert_coordinate('chr'+str(row[1]['chr']),row[1]['start'])\n",
    "    if(len(hg19)>0):\n",
    "        Chr,start,strand,score = hg19[0]\n",
    "        try:\n",
    "            Chr = int(Chr[3:])\n",
    "        except ValueError:\n",
    "            if Chr[3:] == 'X':\n",
    "                Chr = 23\n",
    "            elif Chr[3:] == 'Y':\n",
    "                Chr = 24\n",
    "        if strand == '+':\n",
    "            start = start+1\n",
    "        end = start+1\n",
    "        return [Chr,start,end,row[1]['chr'],row[1]['start']]\n",
    "    else:\n",
    "        return [None,None,None,row[1]['chr'],row[1]['start']]"
   ]
  },
  {
   "cell_type": "code",
   "execution_count": 3,
   "metadata": {
    "collapsed": false
   },
   "outputs": [
    {
     "name": "stdout",
     "output_type": "stream",
     "text": [
      "['1', '2', '3', '4', '5', '6', '7', '8', '9', '10', '11', '12', '13', '14', '15', '16', '17', '18', '19', '20', '21']\n"
     ]
    }
   ],
   "source": [
    "dataset = 'WGBS'\n",
    "win_path= home+'data/wins.txt'\n",
    "chrs=np.arange(1,22,dtype='int64')\n",
    "wins = get_winid.read_wins(win_path,chrs)\n",
    "all_wgbs_sites_file = home+'data/'+dataset+'/all_wgbs_sites_winid.csv'\n",
    "hg19_wgbs_file = home+'data/'+dataset+'/hg19_WGBS.csv'"
   ]
  },
  {
   "cell_type": "code",
   "execution_count": 57,
   "metadata": {
    "collapsed": false
   },
   "outputs": [
    {
     "name": "stdout",
     "output_type": "stream",
     "text": [
      "['1', '16', '15', '2', '19', '12', '5', '11', '21', '18', '4', '17', '14', '7', '3', '9', '20', '8', '10', '6', '13']\n"
     ]
    }
   ],
   "source": [
    "###get all WGBS sites only need to run once\n",
    "data_dir = extra_storage+'WGBS/'\n",
    "file = data_dir+'ENCFF844EFX.bed'\n",
    "wgbs_file = home+'data/'+dataset+'/WGBS.bed'\n",
    "bed = read_WGBS(file)\n",
    "bed = get_winid.convert_chr_to_num(bed,chrs).sort_values(['chr','coordinate'])\n",
    "bed.rename({'coordinate':'start'},axis=1,inplace=True)\n",
    "bed['end'] = bed['start']+1\n",
    "bed.drop(['count'],axis=1,inplace=True)\n",
    "bed.to_csv(wgbs_file,columns=['chr','start','end'],index=False,sep=\"\\t\")"
   ]
  },
  {
   "cell_type": "code",
   "execution_count": 97,
   "metadata": {
    "collapsed": false
   },
   "outputs": [
    {
     "data": {
      "text/plain": [
       "[('chr1', 10468, '+', 20851231461)]"
      ]
     },
     "execution_count": 97,
     "metadata": {},
     "output_type": "execute_result"
    }
   ],
   "source": [
    "lo = LiftOver('hg19', 'hg38')\n",
    "lo.convert_coordinate('chr1',10468)"
   ]
  },
  {
   "cell_type": "code",
   "execution_count": 63,
   "metadata": {
    "collapsed": false
   },
   "outputs": [],
   "source": [
    "##convert to hg19, only need run once\n",
    "lo = LiftOver('hg38', 'hg19')\n",
    "coord_hg19 = [hg38tohg19(row)for row in bed.iterrows()]\n",
    "coord_hg19 = pd.DataFrame(coord_hg19,columns=['chr','coordinate','end','hg38chr','hg38coordinate']).query('chr in @chrs')\n",
    "coord_hg19.dropna().drop_duplicates(['chr','coordinate']).to_csv(hg19_wgbs_file,index=False)"
   ]
  },
  {
   "cell_type": "code",
   "execution_count": 10,
   "metadata": {
    "collapsed": false
   },
   "outputs": [
    {
     "data": {
      "text/plain": [
       "<module 'features_preprocess.CADD_Preprocess' from '/home/ec2-user/git/EnsembleCpG/code/features_preprocess/CADD_Preprocess.py'>"
      ]
     },
     "execution_count": 10,
     "metadata": {},
     "output_type": "execute_result"
    }
   ],
   "source": [
    "from importlib import reload\n",
    "reload(CADD_Preprocess)"
   ]
  },
  {
   "cell_type": "code",
   "execution_count": 66,
   "metadata": {
    "collapsed": false
   },
   "outputs": [],
   "source": [
    "#using WGBS(hg19) sites only run once\n",
    "hg19_wgbs = pd.read_csv(hg19_wgbs_file,usecols=[0,1,3,4]).sort_values(['hg38chr','hg38coordinate']).reset_index(drop=True)\n",
    "#hg19_wgbs = get_winid.convert_chr_to_num(hg19_wgbs,chrs)\n",
    "all_sites = get_winid.get_winid(wins,hg19_wgbs,True).dropna()\n",
    "all_sites['winid'] = all_sites['winid'].astype('i8')\n",
    "all_sites.to_csv(all_wgbs_sites_file,index=False)"
   ]
  },
  {
   "cell_type": "code",
   "execution_count": 69,
   "metadata": {
    "collapsed": false
   },
   "outputs": [
    {
     "name": "stdout",
     "output_type": "stream",
     "text": [
      "['1', '16', '15', '2', '19', '12', '5', '11', '21', '18', '4', '17', '14', '7', '3', '9', '20', '8', '10', '6', '13']\n"
     ]
    }
   ],
   "source": [
    "chrs = all_sites['chr'].unique()\n",
    "cols=['chr', 'coordinate','strand']\n",
    "tss =  pd.read_csv(home+'tss.txt',sep='\\s+',header=None,names=cols,skiprows=1)\n",
    "tss = get_winid.convert_chr_to_num(tss,chrs)"
   ]
  },
  {
   "cell_type": "code",
   "execution_count": 70,
   "metadata": {
    "collapsed": false
   },
   "outputs": [
    {
     "name": "stderr",
     "output_type": "stream",
     "text": [
      "/home/ec2-user/anaconda3/envs/py3.6/lib/python3.6/site-packages/ipykernel/__main__.py:15: DeprecationWarning: \n",
      ".ix is deprecated. Please use\n",
      ".loc for label based indexing or\n",
      ".iloc for positional indexing\n",
      "\n",
      "See the documentation here:\n",
      "http://pandas.pydata.org/pandas-docs/stable/indexing.html#ix-indexer-is-deprecated\n"
     ]
    }
   ],
   "source": [
    "selected_wgbs_tss = wgbs_sites_selection(tss,all_sites)\n",
    "with pd.HDFStore(home+'data/'+dataset+'/all_selected_wgbs_sites','w') as h5s:\n",
    "    h5s['all_wgbs'] = selected_wgbs_tss"
   ]
  },
  {
   "cell_type": "code",
   "execution_count": 4,
   "metadata": {
    "collapsed": true
   },
   "outputs": [],
   "source": [
    "with pd.HDFStore(home+'data/'+dataset+'/all_selected_wgbs_sites','r') as h5s:\n",
    "    selected_wgbs_tss = h5s['all_wgbs'] \n",
    "###split into batchs of CpG around tss sites\n",
    "start = prediction_commons.tss_start\n",
    "end = prediction_commons.tss_end\n",
    "selected_wgbs = selected_wgbs_tss[start:end]\n",
    "sites_file = home+'data/'+dataset+'/all_sites_winid.csv'\n",
    "selected_wgbs.to_csv(sites_file,index=False)\n",
    "selected_wgbs.to_csv(home+'data/'+dataset+'/selected_pos_winid.csv',columns=['winid'],index=False,header=None)\n",
    "additional_feature_file = home+'data/features/'+dataset+'/addtional_features_'+str(start)+'_'+str(end)"
   ]
  },
  {
   "cell_type": "code",
   "execution_count": 5,
   "metadata": {
    "collapsed": false
   },
   "outputs": [
    {
     "data": {
      "text/plain": [
       "0"
      ]
     },
     "execution_count": 5,
     "metadata": {},
     "output_type": "execute_result"
    }
   ],
   "source": [
    "subprocess.call([home+'code/features_preprocess/Feature_export.R',dataset])"
   ]
  },
  {
   "cell_type": "code",
   "execution_count": null,
   "metadata": {
    "collapsed": false
   },
   "outputs": [
    {
     "name": "stdout",
     "output_type": "stream",
     "text": [
      "/ENCFF003JVR is done\n"
     ]
    }
   ],
   "source": [
    "WGBS_h5s = home+'data/WGBS_single_H5S'\n",
    "WGBS_proc = WGBS_preprocess.WGBS_Preprocess(h5s_file=WGBS_h5s,data_dir=extra_storage+'WGBS/',sites_file=sites_file,additional_feature_file=additional_feature_file,hg19_file= home+'data/WGBS/hg19_WGBS.csv')\n",
    "if not os.path.exists(WGBS_h5s):\n",
    "    WGBS_proc.process()\n",
    "WGBS_proc.scores()"
   ]
  },
  {
   "cell_type": "code",
   "execution_count": null,
   "metadata": {
    "collapsed": false
   },
   "outputs": [],
   "source": [
    "ATAC_h5s = home+'data/ATAC_H5S'\n",
    "if os.path.exists(ATAC_h5s):\n",
    "    atac_process = BED_Preprocess.BED_Preprocessing(h5s_file=ATAC_h5s,sites_file=sites_file,additional_feature_file=additional_feature_file,data_type='ATAC')\n",
    "    atac_process.process()\n",
    "else:\n",
    "    atac_binning = BED_binning.BED_binning(data_type='ATAC',data_dir=extra_storage+'ATAC/',output=ATAC_h5s,sorted=True)\n",
    "    atac_binning.binning()\n",
    "    atac_process = BED_Preprocess.BED_Preprocessing(h5s_file=ATAC_h5s,sites_file=sites_file,additional_feature_file=additional_feature_file,data_type='ATAC')\n",
    "    atac_process.process()  "
   ]
  },
  {
   "cell_type": "code",
   "execution_count": null,
   "metadata": {
    "collapsed": false
   },
   "outputs": [],
   "source": [
    "RNASeq_h5s = home+'data/RNASeq/'\n",
    "if len(os.listdir(RNASeq_h5s))>0:\n",
    "    rnaseq_process = BED_Preprocess.BED_Preprocessing(h5s_file=RNASeq_h5s,sites_file=sites_file,additional_feature_file=additional_feature_file, data_type='RNASeq')\n",
    "    rnaseq_process.process()\n",
    "else:\n",
    "    subprocess.call(['python',home+'code/feature_preprocess/RNASeq_binning.py'])\n",
    "    rnaseq_process = BED_Preprocess.BED_Preprocessing(h5s_file=RNASeq_h5s,sites_file=sites_file,additional_feature_file=additional_feature_file, data_type='RNASeq')\n",
    "    rnaseq_process.process()"
   ]
  },
  {
   "cell_type": "code",
   "execution_count": null,
   "metadata": {
    "collapsed": false
   },
   "outputs": [],
   "source": [
    "cadd_preprocess = CADD_Preprocess.CADD_Preprocess(sites_file=sites_file,additional_feature_file=additional_feature_file)\n",
    "cadd_preprocess.process()"
   ]
  },
  {
   "cell_type": "code",
   "execution_count": null,
   "metadata": {
    "collapsed": false
   },
   "outputs": [],
   "source": [
    "dann_preprocess = DANN_Preprocess.DANN_Preprocess(sites_file=sites_file,additional_feature_file=additional_feature_file)\n",
    "dann_preprocess.process()"
   ]
  },
  {
   "cell_type": "code",
   "execution_count": null,
   "metadata": {
    "collapsed": false
   },
   "outputs": [],
   "source": [
    "eigen_preprocess = Eigen_Preprocess.Eigen_Preprocess(sites_file=sites_file,additional_feature_file=additional_feature_file)\n",
    "eigen_preprocess.process()"
   ]
  },
  {
   "cell_type": "code",
   "execution_count": 12,
   "metadata": {
    "collapsed": true
   },
   "outputs": [],
   "source": [
    "genocanyon_scores = extra_storage+'GenoCanyon/Results/'+dataset+'/selected_site_scores.txt'\n",
    "data_dir=extra_storage+'GenoCanyon/Results/'+dataset+'/'\n",
    "if os.path.exists(genocanyon_scores):\n",
    "    genocanyon_preprocess = GenoCanyon_Preprocess.GenoCanyon_Preprocess(data_dir=data_dir,sites_file=sites_file,additional_feature_file=additional_feature_file)\n",
    "    genocanyon_preprocess.process()\n",
    "else:\n",
    "    print('Run GenoCanyon R script first')"
   ]
  },
  {
   "cell_type": "code",
   "execution_count": 13,
   "metadata": {
    "collapsed": false
   },
   "outputs": [],
   "source": [
    "selected_wgbs = pd.read_csv(home+'data/'+dataset+'/all_sites_winid.csv')"
   ]
  },
  {
   "cell_type": "code",
   "execution_count": 14,
   "metadata": {
    "collapsed": false
   },
   "outputs": [],
   "source": [
    "feature_dir = home+'data/features/'+dataset+'/'\n",
    "files = os.listdir(feature_dir)\n",
    "pattern = '.*all.csv$'\n",
    "reg = re.compile(pattern)\n",
    "files = [name for name in files if len(reg.findall(name))>0]"
   ]
  },
  {
   "cell_type": "code",
   "execution_count": 15,
   "metadata": {
    "collapsed": false
   },
   "outputs": [
    {
     "name": "stdout",
     "output_type": "stream",
     "text": [
      "31\n",
      "267\n",
      "317\n",
      "73\n",
      "80\n",
      "735\n",
      "303\n"
     ]
    }
   ],
   "source": [
    "for file in files:    \n",
    "    feature = pd.read_csv(feature_dir+file)\n",
    "    print(len(feature.columns))\n",
    "    selected_wgbs = pd.concat([selected_wgbs,feature],axis=1)"
   ]
  },
  {
   "cell_type": "code",
   "execution_count": 16,
   "metadata": {
    "collapsed": false
   },
   "outputs": [
    {
     "data": {
      "text/plain": [
       "(1000000, 1811)"
      ]
     },
     "execution_count": 16,
     "metadata": {},
     "output_type": "execute_result"
    }
   ],
   "source": [
    "rename_features(selected_wgbs)\n",
    "selected_wgbs.shape"
   ]
  },
  {
   "cell_type": "code",
   "execution_count": 22,
   "metadata": {
    "collapsed": false
   },
   "outputs": [
    {
     "data": {
      "text/plain": [
       "0"
      ]
     },
     "execution_count": 22,
     "metadata": {},
     "output_type": "execute_result"
    }
   ],
   "source": [
    "selected_wgbs.isnull().sum().max()"
   ]
  },
  {
   "cell_type": "code",
   "execution_count": 18,
   "metadata": {
    "collapsed": false
   },
   "outputs": [],
   "source": [
    "additional_features = ['ATAC','CADD','DANN','Eigen','GenoCanyon','RNASeq','WGBS']\n",
    "#merge with additional features\n",
    "with pd.HDFStore(additional_feature_file,'r') as h5s:\n",
    "    for feature in additional_features:\n",
    "        feature_frame = h5s[feature]\n",
    "        selected_wgbs = pd.concat([selected_wgbs,feature_frame],axis=1)\n",
    "selected_wgbs = selected_wgbs.loc[:,~selected_wgbs.columns.duplicated()]\n",
    "selected_wgbs['chr'] = selected_wgbs['chr'].astype('i8')"
   ]
  },
  {
   "cell_type": "code",
   "execution_count": 19,
   "metadata": {
    "collapsed": false
   },
   "outputs": [
    {
     "name": "stdout",
     "output_type": "stream",
     "text": [
      "['1', '10']\n"
     ]
    },
    {
     "name": "stderr",
     "output_type": "stream",
     "text": [
      "/home/ec2-user/anaconda3/envs/py3.6/lib/python3.6/site-packages/ipykernel/__main__.py:31: DeprecationWarning: \n",
      ".ix is deprecated. Please use\n",
      ".loc for label based indexing or\n",
      ".iloc for positional indexing\n",
      "\n",
      "See the documentation here:\n",
      "http://pandas.pydata.org/pandas-docs/stable/indexing.html#ix-indexer-is-deprecated\n"
     ]
    }
   ],
   "source": [
    "#nearest tss distance    \n",
    "chrs = selected_wgbs['chr'].unique()\n",
    "cols=['chr', 'coordinate','strand']\n",
    "tss =  pd.read_csv(home+'tss.txt',sep='\\s+',header=None,names=cols,skiprows=1)\n",
    "tss = get_winid.convert_chr_to_num(tss,chrs)\n",
    "tss.sort_values(['chr','coordinate'],inplace=True)\n",
    "selected_wgbs = nearest_tss(tss,selected_wgbs)\n"
   ]
  },
  {
   "cell_type": "code",
   "execution_count": 20,
   "metadata": {
    "collapsed": false
   },
   "outputs": [
    {
     "data": {
      "text/plain": [
       "(1000000, 2074)"
      ]
     },
     "execution_count": 20,
     "metadata": {},
     "output_type": "execute_result"
    }
   ],
   "source": [
    "selected_wgbs.shape"
   ]
  },
  {
   "cell_type": "code",
   "execution_count": 21,
   "metadata": {
    "collapsed": false
   },
   "outputs": [],
   "source": [
    "with pd.HDFStore(home+'data/'+dataset+'/all_features_'+str(start)+'_'+str(end),'w') as h5s:\n",
    "    h5s['all_features'] = selected_wgbs"
   ]
  },
  {
   "cell_type": "code",
   "execution_count": null,
   "metadata": {
    "collapsed": true
   },
   "outputs": [],
   "source": []
  }
 ],
 "metadata": {
  "kernelspec": {
   "display_name": "Python 3",
   "language": "python",
   "name": "python3"
  },
  "language_info": {
   "codemirror_mode": {
    "name": "ipython",
    "version": 3
   },
   "file_extension": ".py",
   "mimetype": "text/x-python",
   "name": "python",
   "nbconvert_exporter": "python",
   "pygments_lexer": "ipython3",
   "version": "3.6.4"
  }
 },
 "nbformat": 4,
 "nbformat_minor": 2
}
