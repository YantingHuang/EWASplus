{
 "cells": [
  {
   "cell_type": "code",
   "execution_count": null,
   "metadata": {
    "collapsed": false
   },
   "outputs": [],
   "source": [
    "import sys\n",
    "import pandas as pd\n",
    "import numpy as np\n",
    "from common import commons \n",
    "home = commons.home\n",
    "from log import Logger\n",
    "import os"
   ]
  },
  {
   "cell_type": "code",
   "execution_count": 13,
   "metadata": {
    "collapsed": false
   },
   "outputs": [
    {
     "data": {
      "text/plain": [
       "['',\n",
       " '/home/ec2-user/volume/git/EnsembleCpG/code',\n",
       " '/home/ec2-user/volume/git/EnsembleCpG/code/sites_selection',\n",
       " '/home/ec2-user/anaconda3/envs/py3.6/lib/python36.zip',\n",
       " '/home/ec2-user/anaconda3/envs/py3.6/lib/python3.6',\n",
       " '/home/ec2-user/anaconda3/envs/py3.6/lib/python3.6/lib-dynload',\n",
       " '/home/ec2-user/anaconda3/envs/py3.6/lib/python3.6/site-packages',\n",
       " '/home/ec2-user/anaconda3/envs/py3.6/lib/python3.6/site-packages/pyliftover-0.3-py3.6.egg',\n",
       " '/home/ec2-user/anaconda3/envs/py3.6/lib/python3.6/site-packages/IPython/extensions',\n",
       " '/home/ec2-user/.ipython',\n",
       " '/home/ec2-user/anaconda3/lib/python3.6/site-packages/']"
      ]
     },
     "execution_count": 13,
     "metadata": {},
     "output_type": "execute_result"
    }
   ],
   "source": [
    "sys.path"
   ]
  },
  {
   "cell_type": "code",
   "execution_count": 3,
   "metadata": {
    "collapsed": true
   },
   "outputs": [],
   "source": [
    "def cal_beta(beta_file,pos_file):\n",
    "    betas = pd.read_csv(beta_file,sep='\\s+',index_col=['TargetID'])\n",
    "    mean_betas = pd.DataFrame(betas.mean(axis=1),columns=['beta'])\n",
    "    mean_betas.index = betas.index\n",
    "    pos = pd.read_csv(pos_file,sep='\\s+',usecols=[0,2,3],index_col=0, header=None,skiprows=1,names=['id','chr','coordinate'])\n",
    "    beta_pos = mean_betas.join(pos)\n",
    "    return beta_pos"
   ]
  },
  {
   "cell_type": "code",
   "execution_count": 4,
   "metadata": {
    "collapsed": false
   },
   "outputs": [],
   "source": [
    "log_dir = home+'logs/'\n",
    "logger = Logger.Logger(log_dir).get_logger()\n",
    "beta_file = home+'data/AD_CpG/ROSMAP_arrayMethylation_imputed.tsv'\n",
    "pos_file = home+'data/AD_CpG/ROSMAP_arrayMethylation_metaData.tsv'\n",
    "all_sites_betas = cal_beta(beta_file,pos_file)"
   ]
  },
  {
   "cell_type": "code",
   "execution_count": 6,
   "metadata": {
    "collapsed": true
   },
   "outputs": [],
   "source": [
    "pos_pvalue = 0.0002 ### 0.001 for amyloid, 0.0001 for cerad, 0.00001 for tangles,0.002 for cogdec, 0.0002 for gpath,0.0002 for braak\n",
    "neg_pvalue = 0.4\n",
    "sample_ratio_neg_to_pos = 10"
   ]
  },
  {
   "cell_type": "code",
   "execution_count": 7,
   "metadata": {
    "collapsed": false
   },
   "outputs": [
    {
     "name": "stderr",
     "output_type": "stream",
     "text": [
      "/home/ec2-user/anaconda3/envs/py3.6/lib/python3.6/site-packages/ipykernel/__main__.py:13: SettingWithCopyWarning: \n",
      "A value is trying to be set on a copy of a slice from a DataFrame.\n",
      "Try using .loc[row_indexer,col_indexer] = value instead\n",
      "\n",
      "See the caveats in the documentation: http://pandas.pydata.org/pandas-docs/stable/indexing.html#indexing-view-versus-copy\n",
      "/home/ec2-user/anaconda3/envs/py3.6/lib/python3.6/site-packages/ipykernel/__main__.py:15: SettingWithCopyWarning: \n",
      "A value is trying to be set on a copy of a slice from a DataFrame.\n",
      "Try using .loc[row_indexer,col_indexer] = value instead\n",
      "\n",
      "See the caveats in the documentation: http://pandas.pydata.org/pandas-docs/stable/indexing.html#indexing-view-versus-copy\n"
     ]
    }
   ],
   "source": [
    "type_name = commons.type_name  ## amyloid, cerad, tangles\n",
    "with_cell_type = commons.with_cell_type ## with or without\n",
    "all_sites_file = home+'data/AD_CpG/Rosmap_'+type_name+'_ewas_'+with_cell_type+'celltype.csv'\n",
    "all_sites = pd.read_csv(all_sites_file,usecols=[1,2,3],header=None,skiprows=1,index_col=0,names=['id','beta_sign','pvalue'])\n",
    "all_sites = all_sites.join(all_sites_betas).dropna()\n",
    "all_sites.reset_index(inplace=True)\n",
    "temp = pd.DataFrame()\n",
    "temp['id'],temp['chr'],temp['coordinate'],temp['beta_sign'],temp['pvalue'],temp['beta'] = all_sites['id'],all_sites['chr'],all_sites['coordinate'],all_sites['beta_sign'],all_sites['pvalue'],all_sites['beta']\n",
    "all_sites = temp\n",
    "all_sites['chr'] = all_sites['chr'].astype('i8')\n",
    "all_sites.sort_values(['pvalue'],inplace=True,ascending=True)\n",
    "positive_sites = all_sites.query('pvalue<=@pos_pvalue')\n",
    "positive_sites['label'] = np.where(positive_sites['beta_sign']>0,1,-1)\n",
    "negative_sites = all_sites.query('pvalue>@neg_pvalue')\n",
    "negative_sites['label'] = 0\n",
    "negatives_sort_by_beta = negative_sites.sort_values(['beta'])"
   ]
  },
  {
   "cell_type": "code",
   "execution_count": 10,
   "metadata": {
    "collapsed": false
   },
   "outputs": [],
   "source": [
    "select_negs_list = []\n",
    "hyper_sites = negatives_sort_by_beta.query('beta_sign>=0')\n",
    "hypo_sites = negatives_sort_by_beta.query('beta_sign<0')\n",
    "for beta,beta_sign in positive_sites[['beta','beta_sign']].values:\n",
    "    tmp_sites = hyper_sites if beta_sign >=0 else hypo_sites\n",
    "    neg_ix = tmp_sites['beta'].searchsorted(beta)[0]    \n",
    "    negs = tmp_sites.iloc[neg_ix-int(sample_ratio_neg_to_pos/2):np.minimum(neg_ix+int(sample_ratio_neg_to_pos/2),len(negatives_sort_by_beta)),:]\n",
    "    select_negs_list.extend(negs.values)\n",
    "select_negs = pd.DataFrame(select_negs_list,columns=['id','chr','coordinate','beta_sign','pvalue','beta','label'])"
   ]
  },
  {
   "cell_type": "code",
   "execution_count": 11,
   "metadata": {
    "collapsed": false
   },
   "outputs": [
    {
     "name": "stderr",
     "output_type": "stream",
     "text": [
      "/home/ec2-user/anaconda3/envs/py3.6/lib/python3.6/site-packages/pandas/core/generic.py:5984: SettingWithCopyWarning: \n",
      "A value is trying to be set on a copy of a slice from a DataFrame\n",
      "\n",
      "See the caveats in the documentation: http://pandas.pydata.org/pandas-docs/stable/indexing.html#indexing-view-versus-copy\n",
      "  self._update_inplace(new_data)\n",
      "/home/ec2-user/volume/git/EnsembleCpG/code/common/commons.py:75: SettingWithCopyWarning: \n",
      "A value is trying to be set on a copy of a slice from a DataFrame.\n",
      "Try using .loc[row_indexer,col_indexer] = value instead\n",
      "\n",
      "See the caveats in the documentation: http://pandas.pydata.org/pandas-docs/stable/indexing.html#indexing-view-versus-copy\n",
      "  data['chr'] = data['chr'].astype('i8')\n",
      "/home/ec2-user/volume/git/EnsembleCpG/code/common/commons.py:104: SettingWithCopyWarning: \n",
      "A value is trying to be set on a copy of a slice from a DataFrame\n",
      "\n",
      "See the caveats in the documentation: http://pandas.pydata.org/pandas-docs/stable/indexing.html#indexing-view-versus-copy\n",
      "  feature_wins.sort_values(['chr','start'],inplace=True)\n",
      "/home/ec2-user/volume/git/EnsembleCpG/code/common/commons.py:105: SettingWithCopyWarning: \n",
      "A value is trying to be set on a copy of a slice from a DataFrame\n",
      "\n",
      "See the caveats in the documentation: http://pandas.pydata.org/pandas-docs/stable/indexing.html#indexing-view-versus-copy\n",
      "  pos_sites.sort_values(['chr','coordinate'],inplace=True)\n",
      "/home/ec2-user/volume/git/EnsembleCpG/code/common/commons.py:106: SettingWithCopyWarning: \n",
      "A value is trying to be set on a copy of a slice from a DataFrame.\n",
      "Try using .loc[row_indexer,col_indexer] = value instead\n",
      "\n",
      "See the caveats in the documentation: http://pandas.pydata.org/pandas-docs/stable/indexing.html#indexing-view-versus-copy\n",
      "  pos_sites['start'] = (pos_sites['coordinate']/200.0).apply(lambda x: int(np.ceil(x-1))*200+1)\n"
     ]
    }
   ],
   "source": [
    "win_path = home+'data/commons/wins.txt'\n",
    "pos_sites_with_winid, neg_sites_with_winid = commons.merge_with_feature_windows(win_path,positive_sites,select_negs)\n",
    "all_sites_with_winid = pos_sites_with_winid.append(neg_sites_with_winid,ignore_index=True)\n",
    "all_sites_with_winid.drop_duplicates(['id'],inplace=True)\n",
    "all_sites_with_winid.sort_values(['chr','coordinate'],inplace=True) "
   ]
  },
  {
   "cell_type": "code",
   "execution_count": 12,
   "metadata": {
    "collapsed": false
   },
   "outputs": [],
   "source": [
    "#export all features to file\n",
    "if not os.path.exists(home+'data/AD_CpG/'+type_name+with_cell_type):\n",
    "    os.mkdir(home+'data/AD_CpG/'+type_name+with_cell_type)\n",
    "with pd.HDFStore(home+'data/AD_CpG/'+type_name+with_cell_type+'/all_sites_winid','w') as h5s:\n",
    "    h5s['all_sites_winid'] = all_sites_with_winid       \n",
    "all_sites_with_winid.to_csv(home+'data/AD_CpG/'+type_name+with_cell_type+'/all_sites_winid.csv',index=False)  \n",
    "all_sites_with_winid['winid'].to_csv(home+'data/AD_CpG/'+type_name+with_cell_type+'/selected_pos_winid.csv',index=False)"
   ]
  },
  {
   "cell_type": "code",
   "execution_count": 30,
   "metadata": {
    "collapsed": false
   },
   "outputs": [],
   "source": [
    "##export winid with all 450k sites\n",
    "type_name = commons.type_name  ## amyloid, cerad, tangles\n",
    "with_cell_type = commons.with_cell_type ## with or without\n",
    "all_sites_file = home+'data/AD_CpG/Rosmap_'+type_name+'_ewas_'+with_cell_type+'celltype.csv'\n",
    "all_sites = pd.read_csv(all_sites_file,usecols=[1,2,3],header=None,skiprows=1,index_col=0,names=['id','beta_sign','pvalue'])\n",
    "all_sites = all_sites.join(all_sites_betas).dropna()\n",
    "all_sites.reset_index(inplace=True)\n",
    "temp = pd.DataFrame()\n",
    "temp['id'],temp['chr'],temp['coordinate'],temp['beta_sign'],temp['pvalue'],temp['beta'] = all_sites['id'],all_sites['chr'],all_sites['coordinate'],all_sites['beta_sign'],all_sites['pvalue'],all_sites['beta']\n",
    "all_sites = temp\n",
    "all_sites['chr'] = all_sites['chr'].astype('i8')\n",
    "all_sites.sort_values(['pvalue'],inplace=True,ascending=True)"
   ]
  },
  {
   "cell_type": "code",
   "execution_count": 32,
   "metadata": {
    "collapsed": false
   },
   "outputs": [
    {
     "name": "stderr",
     "output_type": "stream",
     "text": [
      "/home/ec2-user/anaconda3/envs/py3.6/lib/python3.6/site-packages/pandas/core/generic.py:5984: SettingWithCopyWarning: \n",
      "A value is trying to be set on a copy of a slice from a DataFrame\n",
      "\n",
      "See the caveats in the documentation: http://pandas.pydata.org/pandas-docs/stable/indexing.html#indexing-view-versus-copy\n",
      "  self._update_inplace(new_data)\n",
      "/home/ec2-user/volume/git/EnsembleCpG/code/common/commons.py:75: SettingWithCopyWarning: \n",
      "A value is trying to be set on a copy of a slice from a DataFrame.\n",
      "Try using .loc[row_indexer,col_indexer] = value instead\n",
      "\n",
      "See the caveats in the documentation: http://pandas.pydata.org/pandas-docs/stable/indexing.html#indexing-view-versus-copy\n",
      "  data['chr'] = data['chr'].astype('i8')\n",
      "/home/ec2-user/volume/git/EnsembleCpG/code/common/commons.py:104: SettingWithCopyWarning: \n",
      "A value is trying to be set on a copy of a slice from a DataFrame\n",
      "\n",
      "See the caveats in the documentation: http://pandas.pydata.org/pandas-docs/stable/indexing.html#indexing-view-versus-copy\n",
      "  feature_wins.sort_values(['chr','start'],inplace=True)\n"
     ]
    }
   ],
   "source": [
    "win_path = home+'data/commons/wins.txt'\n",
    "all_450k_sites_with_winid, __ = commons.merge_with_feature_windows(win_path,all_sites)\n",
    "all_450k_sites_with_winid.drop(['beta_sign'],axis=1,inplace=True)"
   ]
  },
  {
   "cell_type": "code",
   "execution_count": 34,
   "metadata": {
    "collapsed": false
   },
   "outputs": [],
   "source": [
    "with pd.HDFStore(home+'data/AD_CpG/'+type_name+with_cell_type+'/all_450k_sites_winid','w') as h5s:\n",
    "    h5s['all_450k_sites_winid'] = all_450k_sites_with_winid      \n",
    "all_450k_sites_with_winid.to_csv(home+'data/AD_CpG/'+type_name+with_cell_type+'/all_450k_sites_winid.csv',index=False)  \n",
    "if not os.path.exists(home+'data/AD_CpG/selected_450k_pos_winid.csv'):\n",
    "    all_450k_sites_with_winid['winid'].to_csv(home+'data/AD_CpG/selected_450k_pos_winid.csv',index=False)\n",
    "if not os.path.exists(home+'data/AD_CpG/all_450k_sites_winid.csv'):\n",
    "    all_450k_sites_with_winid.to_csv(home+'data/AD_CpG/all_450k_sites_winid.csv',index=False)\n",
    "    with pd.HDFStore(home+'data/AD_CpG/all_450k_sites_winid','w') as h5s:\n",
    "        h5s['all_450k_sites_winid'] = all_450k_sites_with_winid "
   ]
  }
 ],
 "metadata": {
  "kernelspec": {
   "display_name": "Python 3",
   "language": "python",
   "name": "python3"
  },
  "language_info": {
   "codemirror_mode": {
    "name": "ipython",
    "version": 3
   },
   "file_extension": ".py",
   "mimetype": "text/x-python",
   "name": "python",
   "nbconvert_exporter": "python",
   "pygments_lexer": "ipython3",
   "version": "3.6.4"
  }
 },
 "nbformat": 4,
 "nbformat_minor": 2
}
