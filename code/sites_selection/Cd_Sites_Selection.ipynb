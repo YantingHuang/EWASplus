{
 "cells": [
  {
   "cell_type": "code",
   "execution_count": 1,
   "metadata": {
    "collapsed": false
   },
   "outputs": [],
   "source": [
    "import pandas as pd\n",
    "import numpy as np\n",
    "import sys\n",
    "from common import commons\n",
    "home_path = commons.home\n",
    "from log import Logger"
   ]
  },
  {
   "cell_type": "code",
   "execution_count": 3,
   "metadata": {
    "collapsed": false
   },
   "outputs": [],
   "source": [
    "log_dir = home_path+'logs/'\n",
    "logger = Logger.Logger(log_dir,True).get_logger()\n",
    "pos_pvalue = 0.0003\n",
    "neg_pvalue = 0.1\n",
    "sample_ratio_neg_to_pos = 10"
   ]
  },
  {
   "cell_type": "code",
   "execution_count": 4,
   "metadata": {
    "collapsed": true
   },
   "outputs": [],
   "source": [
    "logger.info('Positive pvalue: %f, \\t Control pvalue: %f,\\t Positive/Control ratio: %f',pos_pvalue,neg_pvalue,sample_ratio_neg_to_pos)"
   ]
  },
  {
   "cell_type": "code",
   "execution_count": 4,
   "metadata": {
    "collapsed": false
   },
   "outputs": [
    {
     "name": "stderr",
     "output_type": "stream",
     "text": [
      "/home/ec2-user/anaconda3/envs/py3.6/lib/python3.6/site-packages/ipykernel/__main__.py:10: SettingWithCopyWarning: \n",
      "A value is trying to be set on a copy of a slice from a DataFrame.\n",
      "Try using .loc[row_indexer,col_indexer] = value instead\n",
      "\n",
      "See the caveats in the documentation: http://pandas.pydata.org/pandas-docs/stable/indexing.html#indexing-view-versus-copy\n",
      "/home/ec2-user/anaconda3/envs/py3.6/lib/python3.6/site-packages/ipykernel/__main__.py:12: SettingWithCopyWarning: \n",
      "A value is trying to be set on a copy of a slice from a DataFrame.\n",
      "Try using .loc[row_indexer,col_indexer] = value instead\n",
      "\n",
      "See the caveats in the documentation: http://pandas.pydata.org/pandas-docs/stable/indexing.html#indexing-view-versus-copy\n"
     ]
    }
   ],
   "source": [
    "all_sites = pd.read_excel(home_path+'data/Cd/allsites.xlsx','Excel Table S4',skiprows=4,header=None, names=['id','chr','coordinate','beta_sign','pvalue'],usecols=[0,1,2,5,6])\n",
    "logger.info('Datasets location: '+home_path+'data/Cd/allsites.xlsx')\n",
    "betas = pd.read_csv(home_path+'data/Cd/RICHS_betaValue_summary.csv',skiprows=1,header=None,usecols=[0,1],names=['id','beta_mean'])\n",
    "all_sites.sort_values(['id'],inplace=True)\n",
    "betas.sort_values(['id'],inplace=True)\n",
    "all_sites = pd.merge(all_sites,betas,on=['id'],how='left')\n",
    "all_sites.rename(columns={'beta_mean':'beta'},inplace=True)\n",
    "all_sites.sort_values(['pvalue'],inplace=True,ascending=True)\n",
    "positive_sites = all_sites.query('pvalue<=@pos_pvalue')\n",
    "positive_sites['label'] = np.where(positive_sites['beta_sign']>0,1,-1)\n",
    "negative_sites = all_sites.query('pvalue>@neg_pvalue')\n",
    "negative_sites['label'] = 0"
   ]
  },
  {
   "cell_type": "code",
   "execution_count": 7,
   "metadata": {
    "collapsed": false
   },
   "outputs": [],
   "source": [
    "select_negs_list = []\n",
    "negatives_sort_by_beta = negative_sites.sort_values(['beta'])\n",
    "hyper_sites = negatives_sort_by_beta.query('beta_sign>=0')\n",
    "hypo_sites = negatives_sort_by_beta.query('beta_sign<0')\n",
    "for beta,beta_sign in positive_sites[['beta','beta_sign']].values:\n",
    "    tmp_sites = hyper_sites if beta_sign >=0 else hypo_sites\n",
    "    neg_ix = tmp_sites['beta'].searchsorted(beta)[0]    \n",
    "    negs = tmp_sites.iloc[neg_ix-int(sample_ratio_neg_to_pos/2):np.minimum(neg_ix+int(sample_ratio_neg_to_pos/2),len(negatives_sort_by_beta)),:]\n",
    "    select_negs_list.extend(negs.values)\n",
    "\n",
    "select_negs = pd.DataFrame(select_negs_list,columns=['id','chr','coordinate','beta_sign','pvalue','beta','label'])"
   ]
  },
  {
   "cell_type": "code",
   "execution_count": 8,
   "metadata": {
    "collapsed": false
   },
   "outputs": [
    {
     "name": "stderr",
     "output_type": "stream",
     "text": [
      "/home/ec2-user/anaconda3/envs/py3.6/lib/python3.6/site-packages/pandas/core/generic.py:5984: SettingWithCopyWarning: \n",
      "A value is trying to be set on a copy of a slice from a DataFrame\n",
      "\n",
      "See the caveats in the documentation: http://pandas.pydata.org/pandas-docs/stable/indexing.html#indexing-view-versus-copy\n",
      "  self._update_inplace(new_data)\n",
      "/home/ec2-user/git/EnsembleCpG/code/common/commons.py:57: SettingWithCopyWarning: \n",
      "A value is trying to be set on a copy of a slice from a DataFrame.\n",
      "Try using .loc[row_indexer,col_indexer] = value instead\n",
      "\n",
      "See the caveats in the documentation: http://pandas.pydata.org/pandas-docs/stable/indexing.html#indexing-view-versus-copy\n",
      "  data['chr'] = data['chr'].astype('i8')\n",
      "/home/ec2-user/git/EnsembleCpG/code/common/commons.py:81: SettingWithCopyWarning: \n",
      "A value is trying to be set on a copy of a slice from a DataFrame\n",
      "\n",
      "See the caveats in the documentation: http://pandas.pydata.org/pandas-docs/stable/indexing.html#indexing-view-versus-copy\n",
      "  feature_wins.sort_values(['chr','start'],inplace=True)\n",
      "/home/ec2-user/git/EnsembleCpG/code/common/commons.py:82: SettingWithCopyWarning: \n",
      "A value is trying to be set on a copy of a slice from a DataFrame\n",
      "\n",
      "See the caveats in the documentation: http://pandas.pydata.org/pandas-docs/stable/indexing.html#indexing-view-versus-copy\n",
      "  pos_sites.sort_values(['chr','coordinate'],inplace=True)\n",
      "/home/ec2-user/git/EnsembleCpG/code/common/commons.py:84: SettingWithCopyWarning: \n",
      "A value is trying to be set on a copy of a slice from a DataFrame.\n",
      "Try using .loc[row_indexer,col_indexer] = value instead\n",
      "\n",
      "See the caveats in the documentation: http://pandas.pydata.org/pandas-docs/stable/indexing.html#indexing-view-versus-copy\n",
      "  pos_sites['start'] = (pos_sites['coordinate']/200.0).apply(lambda x: int(np.ceil(x-1))*200+1)\n"
     ]
    }
   ],
   "source": [
    "win_path = home_path+'data/commons/wins.txt'\n",
    "pos_sites_with_winid, neg_sites_with_winid = commons.merge_with_feature_windows(win_path,positive_sites,select_negs)\n",
    "\n",
    "\n",
    "all_sites_with_winid = pos_sites_with_winid.append(neg_sites_with_winid,ignore_index=True)\n",
    "all_sites_with_winid.drop_duplicates(['id'],inplace=True)\n",
    "all_sites_with_winid.sort_values(['chr','coordinate'],inplace=True) "
   ]
  },
  {
   "cell_type": "code",
   "execution_count": 10,
   "metadata": {
    "collapsed": true
   },
   "outputs": [],
   "source": [
    "with pd.HDFStore(home_path+'data/Cd/all_sites_winid','w') as h5s:\n",
    "    h5s['all_sites_winid'] = all_sites_with_winid\n",
    "       \n",
    "all_sites_with_winid.to_csv(home_path+'data/Cd/all_sites_winid.csv',index=False)  \n",
    "all_sites_with_winid['winid'].to_csv(home_path+'data/Cd/selected_pos_winid.csv',index=False)"
   ]
  },
  {
   "cell_type": "code",
   "execution_count": 15,
   "metadata": {
    "collapsed": false
   },
   "outputs": [
    {
     "name": "stderr",
     "output_type": "stream",
     "text": [
      "/home/ec2-user/anaconda3/envs/py3.6/lib/python3.6/site-packages/pandas/core/generic.py:5984: SettingWithCopyWarning: \n",
      "A value is trying to be set on a copy of a slice from a DataFrame\n",
      "\n",
      "See the caveats in the documentation: http://pandas.pydata.org/pandas-docs/stable/indexing.html#indexing-view-versus-copy\n",
      "  self._update_inplace(new_data)\n",
      "/home/ec2-user/git/EnsembleCpG/code/common/commons.py:72: SettingWithCopyWarning: \n",
      "A value is trying to be set on a copy of a slice from a DataFrame.\n",
      "Try using .loc[row_indexer,col_indexer] = value instead\n",
      "\n",
      "See the caveats in the documentation: http://pandas.pydata.org/pandas-docs/stable/indexing.html#indexing-view-versus-copy\n",
      "  data['chr'] = data['chr'].astype('i8')\n",
      "/home/ec2-user/git/EnsembleCpG/code/common/commons.py:101: SettingWithCopyWarning: \n",
      "A value is trying to be set on a copy of a slice from a DataFrame\n",
      "\n",
      "See the caveats in the documentation: http://pandas.pydata.org/pandas-docs/stable/indexing.html#indexing-view-versus-copy\n",
      "  feature_wins.sort_values(['chr','start'],inplace=True)\n"
     ]
    }
   ],
   "source": [
    "##export winid with all 450k sites\n",
    "win_path = home_path+'data/commons/wins.txt'\n",
    "all_450k_sites_with_winid, __ = commons.merge_with_feature_windows(win_path,all_sites)\n",
    "all_450k_sites_with_winid.drop(['beta_sign'],axis=1,inplace=True)"
   ]
  },
  {
   "cell_type": "code",
   "execution_count": 19,
   "metadata": {
    "collapsed": false
   },
   "outputs": [],
   "source": [
    "all_450k_sites_with_winid.to_csv(home_path+'data/Cd/all_450k_sites_winid.csv',index=False) \n",
    "all_450k_sites_with_winid['winid'].to_csv(home_path+'data/Cd/selected_450k_pos_winid.csv',index=False)\n",
    "with pd.HDFStore(home_path+'data/Cd/all_450k_sites_winid','w') as h5s:\n",
    "    h5s['all_450k_sites_winid'] = all_450k_sites_with_winid"
   ]
  }
 ],
 "metadata": {
  "kernelspec": {
   "display_name": "Python 3",
   "language": "python",
   "name": "python3"
  },
  "language_info": {
   "codemirror_mode": {
    "name": "ipython",
    "version": 3
   },
   "file_extension": ".py",
   "mimetype": "text/x-python",
   "name": "python",
   "nbconvert_exporter": "python",
   "pygments_lexer": "ipython3",
   "version": "3.6.4"
  }
 },
 "nbformat": 4,
 "nbformat_minor": 2
}
