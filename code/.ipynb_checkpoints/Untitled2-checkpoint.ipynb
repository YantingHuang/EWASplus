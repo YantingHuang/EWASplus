{
 "cells": [
  {
   "cell_type": "code",
   "execution_count": 14,
   "metadata": {
    "collapsed": false
   },
   "outputs": [],
   "source": [
    "import sys\n",
    "sys.path.append('/home/ec2-user/CpGPython/code/')\n",
    "sys.path.append('/home/ec2-user/anaconda3/lib/python3.6/site-packages')\n",
    "import pandas as pd\n",
    "import numpy as np\n",
    "from sklearn.ensemble import VotingClassifier\n",
    "from sklearn.metrics import log_loss\n",
    "from sklearn.metrics import f1_score\n",
    "from sklearn.metrics import recall_score\n",
    "from sklearn.metrics import precision_score\n",
    "from hyperopt import fmin,tpe,hp, STATUS_OK,Trials\n",
    "import xgbooster \n",
    "from sklearn.linear_model import LogisticRegression\n",
    "from sklearn.ensemble import RandomForestClassifier\n",
    "from sklearn.svm import SVC\n",
    "from sklearn.model_selection import cross_validate\n",
    "import deep_network_estimator as dne\n",
    "from sklearn.exceptions import NotFittedError\n",
    "import multiprocessing as mp"
   ]
  },
  {
   "cell_type": "code",
   "execution_count": 5,
   "metadata": {
    "collapsed": true
   },
   "outputs": [],
   "source": [
    "\n",
    "def cal_opt_score(estimator):\n",
    "    results = cross_validate(estimator,train_x,train_label,scoring='f1',cv=2,return_train_score=False,fit_params={'sample_weight':sample_weights_train})\n",
    "    score = results['test_f1'].mean()\n",
    "    return score\n",
    "\n",
    "\n",
    "def logistic_loss(params):\n",
    "    l_estimator = LogisticRegression(**params)\n",
    "    score = cal_opt_score(l_estimator)      \n",
    "    return {'loss':-score,'status':STATUS_OK}\n",
    "\n",
    "def rf_loss(params):\n",
    "    global estimators\n",
    "    rf_estimator = RandomForestClassifier(**params)\n",
    "    score = Ensemble.cal_opt_score(rf_estimator)\n",
    "    Ensemble.estimators['RandomForestClassifier'].extend([rf_estimator])\n",
    "    return {'loss':-score,'status':STATUS_OK}\n",
    "\n",
    "\n",
    "def svc_loss(params):\n",
    "    global estimators\n",
    "    svc_estimator = SVC(**params)\n",
    "    score = Ensemble.cal_opt_score(svc_estimator)\n",
    "    Ensemble.estimators['SVC'].extend([svc_estimator])\n",
    "    return {'loss':-score,'status':STATUS_OK}\n",
    "\n",
    "\n",
    "def xgb_loss(params):\n",
    "    global estimators\n",
    "    xgb_estimator = xgbooster.xgbooster(**params)\n",
    "    score = Ensemble.cal_opt_score(xgb_estimator)\n",
    "    Ensemble.estimators['xgbooster'].extend([xgb_estimator])\n",
    "    return {'loss':-score,'status':STATUS_OK}\n",
    "\n",
    "def dnn_loss(params):\n",
    "    dnn_estimator = dne.tensor_DNN(**params)\n",
    "    score = cal_opt_score(dnn_estimator)\n",
    "    return {'loss':-score,'status':STATUS_OK}"
   ]
  },
  {
   "cell_type": "code",
   "execution_count": 6,
   "metadata": {
    "collapsed": true
   },
   "outputs": [],
   "source": [
    "\n",
    "def get_hyperopt_params(methods=['LogisticRegression','RandomForestClassifier','SVC','xgbooster','tensor_DNN']):\n",
    "    params={}\n",
    "    l_param = {'C': hp.uniform('C',0.05,10)}\n",
    "    rf_param = {'n_estimators': 10+hp.randint('n_estimators',500),'max_depth':3+hp.randint('max_depth',30), 'min_samples_split': 3+hp.randint('min_samples_split',30),'min_samples_leaf': 1+hp.randint('min_samples_leaf',5)}\n",
    "    svc_param = {'C': hp.uniform('C',0.005,1),'gamma': hp.uniform('gamma',0.001,1),'probability':hp.choice('probability',[True])}\n",
    "    xgb_param = {'learning_rate':hp.choice('learning_rate',[0.1]),'max_depth': 3+hp.randint('max_depth',15),'n_estimators':500+hp.randint('n_estimators',3000),'reg_lambda': hp.uniform('reg_lambda',1,100),'gamma': hp.uniform('gamma',1,30)}\n",
    "    dnn_param = {'batch_normalization': hp.choice('batch_normalization',[True]),\n",
    "                 'l2_reg': hp.uniform('l2_reg',0.001,0.05),                            \n",
    "                 'drop_out':hp.uniform('drop_out',0.1,0.5),\n",
    "                 #'weight_factor':hp.uniform('weight_factor',1,2),\n",
    "                 'steps':200+hp.randint('steps',2000),\n",
    "                 'batch_size':hp.choice('batch_size',[30]),\n",
    "                 'scoring':hp.choice('scoring',['precision']),\n",
    "                 }\n",
    "    if 'LogisticRegression' in methods:\n",
    "        params['LogisticRegression'] = l_param\n",
    "    if 'RandomForestClassifier' in methods:\n",
    "        params['RandomForestClassifier'] = rf_param\n",
    "    if 'SVC' in methods:\n",
    "        params['SVC'] = svc_param\n",
    "    if 'xgbooster' in methods:\n",
    "        params['xgbooster'] = xgb_param\n",
    "    if 'tensor_DNN' in methods:\n",
    "        params['tensor_DNN'] = dnn_param\n",
    "    return params "
   ]
  },
  {
   "cell_type": "code",
   "execution_count": 22,
   "metadata": {
    "collapsed": true
   },
   "outputs": [],
   "source": [
    "def run(score_fn,param,max_iter,train_x,train_label,sample_weight_train):\n",
    "    trial = Trials()\n",
    "    best = fmin(score_fn,param,algo=tpe.suggest,max_evals=max_iter,trials=trial)\n",
    "    return best"
   ]
  },
  {
   "cell_type": "code",
   "execution_count": 10,
   "metadata": {
    "collapsed": false
   },
   "outputs": [],
   "source": [
    "home='/home/ec2-user/CpGPython/'\n",
    "with pd.HDFStore(home+'data/selected_features','r') as h5s:\n",
    "    train_x =h5s['train_x'] \n",
    "    train_label = h5s['train_label'] \n",
    "    test_x = h5s['test_x'] \n",
    "    test_label = h5s['test_label']   \n",
    "    sample_weights_train = h5s['sample_weights_train'] \n",
    "    sample_weights_test = h5s['sample_weights_test'] "
   ]
  },
  {
   "cell_type": "code",
   "execution_count": 11,
   "metadata": {
    "collapsed": true
   },
   "outputs": [],
   "source": [
    "methods = ['tensor_DNN','LogisticRegression']\n",
    "params = get_hyperopt_params(methods)"
   ]
  },
  {
   "cell_type": "code",
   "execution_count": 12,
   "metadata": {
    "collapsed": true
   },
   "outputs": [],
   "source": [
    "tensor_score_fn = dnn_loss\n",
    "logistic_score_fn = logistic_loss"
   ]
  },
  {
   "cell_type": "code",
   "execution_count": 17,
   "metadata": {
    "collapsed": false
   },
   "outputs": [],
   "source": [
    "p = mp.Pool(processes=2)"
   ]
  },
  {
   "cell_type": "code",
   "execution_count": 19,
   "metadata": {
    "collapsed": false
   },
   "outputs": [
    {
     "data": {
      "text/plain": [
       "{'LogisticRegression': {'C': <hyperopt.pyll.base.Apply at 0x7f39e0520ba8>},\n",
       " 'tensor_DNN': {'batch_normalization': <hyperopt.pyll.base.Apply at 0x7f39e04b94e0>,\n",
       "  'l2_reg': <hyperopt.pyll.base.Apply at 0x7f39e04b9940>,\n",
       "  'drop_out': <hyperopt.pyll.base.Apply at 0x7f39e04b9630>,\n",
       "  'steps': <hyperopt.pyll.base.Apply at 0x7f39e04b9cc0>,\n",
       "  'batch_size': <hyperopt.pyll.base.Apply at 0x7f39e04b9dd8>,\n",
       "  'scoring': <hyperopt.pyll.base.Apply at 0x7f39e04b98d0>}}"
      ]
     },
     "execution_count": 19,
     "metadata": {},
     "output_type": "execute_result"
    }
   ],
   "source": [
    "params"
   ]
  },
  {
   "cell_type": "code",
   "execution_count": 21,
   "metadata": {
    "collapsed": false
   },
   "outputs": [
    {
     "ename": "TypeError",
     "evalue": "run() missing 5 required positional arguments: 'param', 'max_iter', 'train_x', 'train_label', and 'sample_weight_train'",
     "output_type": "error",
     "traceback": [
      "\u001b[0;31m---------------------------------------------------------------------------\u001b[0m",
      "\u001b[0;31mRemoteTraceback\u001b[0m                           Traceback (most recent call last)",
      "\u001b[0;31mRemoteTraceback\u001b[0m: \n\"\"\"\nTraceback (most recent call last):\n  File \"/home/ec2-user/anaconda3/envs/py3.6/lib/python3.6/multiprocessing/pool.py\", line 119, in worker\n    result = (True, func(*args, **kwds))\n  File \"/home/ec2-user/anaconda3/envs/py3.6/lib/python3.6/multiprocessing/pool.py\", line 44, in mapstar\n    return list(map(*args))\nTypeError: run() missing 5 required positional arguments: 'param', 'max_iter', 'train_x', 'train_label', and 'sample_weight_train'\n\"\"\"",
      "\nThe above exception was the direct cause of the following exception:\n",
      "\u001b[0;31mTypeError\u001b[0m                                 Traceback (most recent call last)",
      "\u001b[0;32m<ipython-input-21-39623cbdd119>\u001b[0m in \u001b[0;36m<module>\u001b[0;34m()\u001b[0m\n\u001b[0;32m----> 1\u001b[0;31m \u001b[0mp\u001b[0m\u001b[0;34m.\u001b[0m\u001b[0mmap\u001b[0m\u001b[0;34m(\u001b[0m\u001b[0mrun\u001b[0m\u001b[0;34m,\u001b[0m\u001b[0;34m[\u001b[0m\u001b[0;34m*\u001b[0m\u001b[0;34m(\u001b[0m\u001b[0mtensor_score_fn\u001b[0m\u001b[0;34m,\u001b[0m\u001b[0mparams\u001b[0m\u001b[0;34m[\u001b[0m\u001b[0;34m'tensor_DNN'\u001b[0m\u001b[0;34m]\u001b[0m\u001b[0;34m,\u001b[0m\u001b[0;36m2\u001b[0m\u001b[0;34m,\u001b[0m\u001b[0mtrain_x\u001b[0m\u001b[0;34m,\u001b[0m\u001b[0mtrain_label\u001b[0m\u001b[0;34m,\u001b[0m\u001b[0msample_weights_train\u001b[0m\u001b[0;34m)\u001b[0m\u001b[0;34m,\u001b[0m\u001b[0;34m*\u001b[0m\u001b[0;34m(\u001b[0m\u001b[0mlogistic_score_fn\u001b[0m\u001b[0;34m,\u001b[0m\u001b[0mparams\u001b[0m\u001b[0;34m[\u001b[0m\u001b[0;34m'LogisticRegression'\u001b[0m\u001b[0;34m]\u001b[0m\u001b[0;34m,\u001b[0m\u001b[0;36m2\u001b[0m\u001b[0;34m,\u001b[0m\u001b[0mtrain_x\u001b[0m\u001b[0;34m,\u001b[0m\u001b[0mtrain_label\u001b[0m\u001b[0;34m,\u001b[0m\u001b[0msample_weights_train\u001b[0m\u001b[0;34m)\u001b[0m\u001b[0;34m]\u001b[0m\u001b[0;34m)\u001b[0m\u001b[0;34m\u001b[0m\u001b[0m\n\u001b[0m",
      "\u001b[0;32m~/anaconda3/envs/py3.6/lib/python3.6/multiprocessing/pool.py\u001b[0m in \u001b[0;36mmap\u001b[0;34m(self, func, iterable, chunksize)\u001b[0m\n\u001b[1;32m    264\u001b[0m         \u001b[0;32min\u001b[0m \u001b[0ma\u001b[0m \u001b[0mlist\u001b[0m \u001b[0mthat\u001b[0m \u001b[0;32mis\u001b[0m \u001b[0mreturned\u001b[0m\u001b[0;34m.\u001b[0m\u001b[0;34m\u001b[0m\u001b[0m\n\u001b[1;32m    265\u001b[0m         '''\n\u001b[0;32m--> 266\u001b[0;31m         \u001b[0;32mreturn\u001b[0m \u001b[0mself\u001b[0m\u001b[0;34m.\u001b[0m\u001b[0m_map_async\u001b[0m\u001b[0;34m(\u001b[0m\u001b[0mfunc\u001b[0m\u001b[0;34m,\u001b[0m \u001b[0miterable\u001b[0m\u001b[0;34m,\u001b[0m \u001b[0mmapstar\u001b[0m\u001b[0;34m,\u001b[0m \u001b[0mchunksize\u001b[0m\u001b[0;34m)\u001b[0m\u001b[0;34m.\u001b[0m\u001b[0mget\u001b[0m\u001b[0;34m(\u001b[0m\u001b[0;34m)\u001b[0m\u001b[0;34m\u001b[0m\u001b[0m\n\u001b[0m\u001b[1;32m    267\u001b[0m \u001b[0;34m\u001b[0m\u001b[0m\n\u001b[1;32m    268\u001b[0m     \u001b[0;32mdef\u001b[0m \u001b[0mstarmap\u001b[0m\u001b[0;34m(\u001b[0m\u001b[0mself\u001b[0m\u001b[0;34m,\u001b[0m \u001b[0mfunc\u001b[0m\u001b[0;34m,\u001b[0m \u001b[0miterable\u001b[0m\u001b[0;34m,\u001b[0m \u001b[0mchunksize\u001b[0m\u001b[0;34m=\u001b[0m\u001b[0;32mNone\u001b[0m\u001b[0;34m)\u001b[0m\u001b[0;34m:\u001b[0m\u001b[0;34m\u001b[0m\u001b[0m\n",
      "\u001b[0;32m~/anaconda3/envs/py3.6/lib/python3.6/multiprocessing/pool.py\u001b[0m in \u001b[0;36mget\u001b[0;34m(self, timeout)\u001b[0m\n\u001b[1;32m    642\u001b[0m             \u001b[0;32mreturn\u001b[0m \u001b[0mself\u001b[0m\u001b[0;34m.\u001b[0m\u001b[0m_value\u001b[0m\u001b[0;34m\u001b[0m\u001b[0m\n\u001b[1;32m    643\u001b[0m         \u001b[0;32melse\u001b[0m\u001b[0;34m:\u001b[0m\u001b[0;34m\u001b[0m\u001b[0m\n\u001b[0;32m--> 644\u001b[0;31m             \u001b[0;32mraise\u001b[0m \u001b[0mself\u001b[0m\u001b[0;34m.\u001b[0m\u001b[0m_value\u001b[0m\u001b[0;34m\u001b[0m\u001b[0m\n\u001b[0m\u001b[1;32m    645\u001b[0m \u001b[0;34m\u001b[0m\u001b[0m\n\u001b[1;32m    646\u001b[0m     \u001b[0;32mdef\u001b[0m \u001b[0m_set\u001b[0m\u001b[0;34m(\u001b[0m\u001b[0mself\u001b[0m\u001b[0;34m,\u001b[0m \u001b[0mi\u001b[0m\u001b[0;34m,\u001b[0m \u001b[0mobj\u001b[0m\u001b[0;34m)\u001b[0m\u001b[0;34m:\u001b[0m\u001b[0;34m\u001b[0m\u001b[0m\n",
      "\u001b[0;31mTypeError\u001b[0m: run() missing 5 required positional arguments: 'param', 'max_iter', 'train_x', 'train_label', and 'sample_weight_train'"
     ]
    }
   ],
   "source": [
    "p.map(run,[(tensor_score_fn,params['tensor_DNN'],2,train_x,train_label,sample_weights_train),(logistic_score_fn,params['LogisticRegression'],2,train_x,train_label,sample_weights_train)])"
   ]
  },
  {
   "cell_type": "code",
   "execution_count": 24,
   "metadata": {
    "collapsed": true
   },
   "outputs": [],
   "source": [
    "res = p.apply_async(run,(tensor_score_fn,params['tensor_DNN'],2,train_x,train_label,sample_weights_train))"
   ]
  },
  {
   "cell_type": "code",
   "execution_count": 25,
   "metadata": {
    "collapsed": false
   },
   "outputs": [
    {
     "ename": "NameError",
     "evalue": "name 'Ensemble' is not defined",
     "output_type": "error",
     "traceback": [
      "\u001b[0;31m---------------------------------------------------------------------------\u001b[0m",
      "\u001b[0;31mRemoteTraceback\u001b[0m                           Traceback (most recent call last)",
      "\u001b[0;31mRemoteTraceback\u001b[0m: \n\"\"\"\nTraceback (most recent call last):\n  File \"/home/ec2-user/anaconda3/envs/py3.6/lib/python3.6/multiprocessing/pool.py\", line 119, in worker\n    result = (True, func(*args, **kwds))\n  File \"<ipython-input-7-18675651cb92>\", line 3, in run\n    best = fmin(score_fn,param,algo=tpe.suggest,max_evals=max_iter,trials=trial)\n  File \"/home/ec2-user/anaconda3/lib/python3.6/site-packages/hyperopt/fmin.py\", line 307, in fmin\n    return_argmin=return_argmin,\n  File \"/home/ec2-user/anaconda3/lib/python3.6/site-packages/hyperopt/base.py\", line 635, in fmin\n    return_argmin=return_argmin)\n  File \"/home/ec2-user/anaconda3/lib/python3.6/site-packages/hyperopt/fmin.py\", line 320, in fmin\n    rval.exhaust()\n  File \"/home/ec2-user/anaconda3/lib/python3.6/site-packages/hyperopt/fmin.py\", line 199, in exhaust\n    self.run(self.max_evals - n_done, block_until_done=self.async)\n  File \"/home/ec2-user/anaconda3/lib/python3.6/site-packages/hyperopt/fmin.py\", line 173, in run\n    self.serial_evaluate()\n  File \"/home/ec2-user/anaconda3/lib/python3.6/site-packages/hyperopt/fmin.py\", line 92, in serial_evaluate\n    result = self.domain.evaluate(spec, ctrl)\n  File \"/home/ec2-user/anaconda3/lib/python3.6/site-packages/hyperopt/base.py\", line 840, in evaluate\n    rval = self.fn(pyll_rval)\n  File \"<ipython-input-5-87ebb96c8db4>\", line 43, in dnn_loss\n    score = Ensemble.cal_opt_score(dnn_estimator)\nNameError: name 'Ensemble' is not defined\n\"\"\"",
      "\nThe above exception was the direct cause of the following exception:\n",
      "\u001b[0;31mNameError\u001b[0m                                 Traceback (most recent call last)",
      "\u001b[0;32m<ipython-input-25-84bb30dc051e>\u001b[0m in \u001b[0;36m<module>\u001b[0;34m()\u001b[0m\n\u001b[0;32m----> 1\u001b[0;31m \u001b[0mres\u001b[0m\u001b[0;34m.\u001b[0m\u001b[0mget\u001b[0m\u001b[0;34m(\u001b[0m\u001b[0;34m)\u001b[0m\u001b[0;34m\u001b[0m\u001b[0m\n\u001b[0m",
      "\u001b[0;32m~/anaconda3/envs/py3.6/lib/python3.6/multiprocessing/pool.py\u001b[0m in \u001b[0;36mget\u001b[0;34m(self, timeout)\u001b[0m\n\u001b[1;32m    642\u001b[0m             \u001b[0;32mreturn\u001b[0m \u001b[0mself\u001b[0m\u001b[0;34m.\u001b[0m\u001b[0m_value\u001b[0m\u001b[0;34m\u001b[0m\u001b[0m\n\u001b[1;32m    643\u001b[0m         \u001b[0;32melse\u001b[0m\u001b[0;34m:\u001b[0m\u001b[0;34m\u001b[0m\u001b[0m\n\u001b[0;32m--> 644\u001b[0;31m             \u001b[0;32mraise\u001b[0m \u001b[0mself\u001b[0m\u001b[0;34m.\u001b[0m\u001b[0m_value\u001b[0m\u001b[0;34m\u001b[0m\u001b[0m\n\u001b[0m\u001b[1;32m    645\u001b[0m \u001b[0;34m\u001b[0m\u001b[0m\n\u001b[1;32m    646\u001b[0m     \u001b[0;32mdef\u001b[0m \u001b[0m_set\u001b[0m\u001b[0;34m(\u001b[0m\u001b[0mself\u001b[0m\u001b[0;34m,\u001b[0m \u001b[0mi\u001b[0m\u001b[0;34m,\u001b[0m \u001b[0mobj\u001b[0m\u001b[0;34m)\u001b[0m\u001b[0;34m:\u001b[0m\u001b[0;34m\u001b[0m\u001b[0m\n",
      "\u001b[0;31mNameError\u001b[0m: name 'Ensemble' is not defined"
     ]
    }
   ],
   "source": [
    "res.get()"
   ]
  }
 ],
 "metadata": {
  "kernelspec": {
   "display_name": "Python 3",
   "language": "python",
   "name": "python3"
  },
  "language_info": {
   "codemirror_mode": {
    "name": "ipython",
    "version": 3
   },
   "file_extension": ".py",
   "mimetype": "text/x-python",
   "name": "python",
   "nbconvert_exporter": "python",
   "pygments_lexer": "ipython3",
   "version": "3.6.4"
  }
 },
 "nbformat": 4,
 "nbformat_minor": 2
}
