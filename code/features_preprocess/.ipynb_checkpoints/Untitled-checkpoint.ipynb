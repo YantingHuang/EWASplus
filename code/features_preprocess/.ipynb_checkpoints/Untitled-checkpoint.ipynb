{
 "cells": [
  {
   "cell_type": "code",
   "execution_count": 1,
   "metadata": {
    "collapsed": false
   },
   "outputs": [
    {
     "name": "stderr",
     "output_type": "stream",
     "text": [
      "INFO    ; 2019-03-07 03:49:36,538; root           ; commons:<module>;39: Existing logger at commons\n"
     ]
    }
   ],
   "source": [
    "import os\n",
    "import sys\n",
    "from common import commons\n",
    "home = commons.home\n",
    "extra_storage = commons.extra_storage\n",
    "from features_preprocess import BED_binning\n",
    "#from features_preprocess import BED_Preprocess,CADD_Preprocess_bedtools as CADD_Preprocess,DANN_Preprocess_bedtools as DANN_Preprocess,Eigen_Preprocess_bedtools as Eigen_Preprocess,GenoCanyon_Preprocess\n",
    "from features_preprocess import BED_Preprocess,CADD_Preprocess ,DANN_Preprocess,Eigen_Preprocess,GenoCanyon_Preprocess,GWAVA_Preprocess\n",
    "import subprocess\n",
    "import pandas as pd\n",
    "from features_preprocess import get_winid\n",
    "import numpy as np\n",
    "import re\n",
    "from features_preprocess import WGBS_preprocess\n",
    "from common.commons import rename_features, check_genocaynon,logger\n",
    "import gc\n",
    "import argparse"
   ]
  },
  {
   "cell_type": "code",
   "execution_count": 2,
   "metadata": {
    "collapsed": false
   },
   "outputs": [
    {
     "name": "stderr",
     "output_type": "stream",
     "text": [
      "/home/ec2-user/xiaobo/git/EnsembleCpG/code/features_preprocess/get_winid.py:22: SettingWithCopyWarning: \n",
      "A value is trying to be set on a copy of a slice from a DataFrame.\n",
      "Try using .loc[row_indexer,col_indexer] = value instead\n",
      "\n",
      "See the caveats in the documentation: http://pandas.pydata.org/pandas-docs/stable/indexing.html#indexing-view-versus-copy\n",
      "  data['chr'] = data['chr'].apply(lambda x: convert_chrstr_to_num(x))\n"
     ]
    }
   ],
   "source": [
    "dataset = 'WGBS'\n",
    "all_wgbs_sites_file = home+'data/'+dataset+'/all_wgbs_sites_winid.csv'\n",
    "all_sites = pd.read_csv(all_wgbs_sites_file).query('chr<23')\n",
    "chrs = all_sites['chr'].unique()\n",
    "cols=['chr', 'coordinate','strand']\n",
    "tss =  pd.read_csv(home+'data/commons/tss.txt',sep='\\s+',header=None,names=cols,skiprows=1)\n",
    "tss = get_winid.convert_chr_to_num(tss,chrs)"
   ]
  },
  {
   "cell_type": "code",
   "execution_count": 3,
   "metadata": {
    "collapsed": true
   },
   "outputs": [],
   "source": [
    "allsites = all_sites"
   ]
  },
  {
   "cell_type": "code",
   "execution_count": 4,
   "metadata": {
    "collapsed": true
   },
   "outputs": [],
   "source": [
    "tss = tss.sort_values(['chr','coordinate'])\n"
   ]
  },
  {
   "cell_type": "code",
   "execution_count": 5,
   "metadata": {
    "collapsed": true
   },
   "outputs": [],
   "source": [
    "allsites = all_sites.sort_values(['chr','coordinate']).reset_index(drop=True)\n",
    "i = 0\n",
    "selected_sites = []\n",
    "#selected_sites = pd.DataFrame(columns=['chr','coordinate','tss_coordinate'])\n",
    "tss['before'] = tss['coordinate']-100000\n",
    "tss['after'] = tss['coordinate']+100000"
   ]
  }
 ],
 "metadata": {
  "kernelspec": {
   "display_name": "Python 3",
   "language": "python",
   "name": "python3"
  },
  "language_info": {
   "codemirror_mode": {
    "name": "ipython",
    "version": 3
   },
   "file_extension": ".py",
   "mimetype": "text/x-python",
   "name": "python",
   "nbconvert_exporter": "python",
   "pygments_lexer": "ipython3",
   "version": "3.6.4"
  }
 },
 "nbformat": 4,
 "nbformat_minor": 2
}
