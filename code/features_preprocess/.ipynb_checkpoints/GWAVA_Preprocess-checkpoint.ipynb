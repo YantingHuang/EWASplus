{
 "cells": [
  {
   "cell_type": "code",
   "execution_count": null,
   "metadata": {
    "collapsed": true
   },
   "outputs": [],
   "source": [
    "import pandas as pd\n",
    "import numpy as np\n",
    "import re\n",
    "import os\n",
    "import sys\n",
    "sys.path.append('/home/ec2-user/CpGPython/code/')\n",
    "import get_winid"
   ]
  },
  {
   "cell_type": "code",
   "execution_count": null,
   "metadata": {
    "collapsed": true
   },
   "outputs": [],
   "source": [
    "data_dir = '/home/ec2-user/extra_storage/CpG_EWAS/GWAVA/csv/'\n",
    "sites_file = '/home/ec2-user/CpGPython/data/all_sites_winid.csv'\n",
    "\n",
    "additional_feature_file = '/home/ec2-user/CpGPython/data/features/addtional_features'"
   ]
  },
  {
   "cell_type": "code",
   "execution_count": null,
   "metadata": {
    "collapsed": false
   },
   "outputs": [],
   "source": [
    "all_sites = pd.read_csv(sites_file)\n",
    "all_sites = get_winid.convert_chr_to_num(all_sites)\n",
    "chrs = all_sites['chr'].unique()\n"
   ]
  },
  {
   "cell_type": "code",
   "execution_count": null,
   "metadata": {
    "collapsed": true
   },
   "outputs": [],
   "source": [
    "files = os.listdir(data_dir)\n",
    "pattern = '^scores.*\\.csv$'\n",
    "reg = re.compile(pattern)\n",
    "files = [f for f in files if len(reg.findall(f))>0]\n"
   ]
  },
  {
   "cell_type": "code",
   "execution_count": null,
   "metadata": {
    "collapsed": false
   },
   "outputs": [],
   "source": [
    "files"
   ]
  },
  {
   "cell_type": "code",
   "execution_count": null,
   "metadata": {
    "collapsed": false
   },
   "outputs": [],
   "source": [
    "files.sort(key=lambda x: int(x[7:x.index('.')]))"
   ]
  },
  {
   "cell_type": "code",
   "execution_count": null,
   "metadata": {
    "collapsed": false
   },
   "outputs": [],
   "source": [
    "all_scores = []\n",
    "for f in files:\n",
    "    gwava = pd.read_csv(data_dir+f,usecols=[1,3,179,180,181],skiprows=1,header=None,names=['chr','coordinate','gwava_region_score','gwava_tss_score','gwava_unmatched_score'])\n",
    "    gwava = get_winid.convert_chr_to_num(gwava,chrs)\n",
    "    all_scores.extend(gwava.values)"
   ]
  },
  {
   "cell_type": "code",
   "execution_count": null,
   "metadata": {
    "collapsed": false
   },
   "outputs": [],
   "source": [
    "all_scores"
   ]
  },
  {
   "cell_type": "code",
   "execution_count": null,
   "metadata": {
    "collapsed": true
   },
   "outputs": [],
   "source": [
    "all_scores = pd.DataFrame(all_scores,columns=['chr','coordinate','gwava_region_score','gwava_tss_score','gwava_unmatched_score'])\n",
    "all_scores['coordinate'] = all_scores['coordinate'].astype('int64')\n",
    "all_scores.drop_duplicates(['chr','coordinate'],inplace=True)"
   ]
  },
  {
   "cell_type": "code",
   "execution_count": null,
   "metadata": {
    "collapsed": true
   },
   "outputs": [],
   "source": [
    "all_scores = pd.merge(all_scores,all_sites.drop(['pvalue','beta','label','start','end','winid'],axis=1),on=['chr','coordinate'],how='outer')\n",
    "all_scores.sort_values(['chr','coordinate'],inplace=True)"
   ]
  },
  {
   "cell_type": "code",
   "execution_count": null,
   "metadata": {
    "collapsed": false
   },
   "outputs": [],
   "source": [
    "all_scores['before_dist'] = all_scores['coordinate']-all_scores['coordinate'].shift(1)\n",
    "all_scores['after_dist'] = all_scores['coordinate'].shift(-1)-all_scores['coordinate']\n",
    "for score in ['gwava_region_score','gwava_tss_score','gwava_unmatched_score']:\n",
    "    all_scores['before_'+score] = all_scores[score].shift(1)\n",
    "    all_scores['after_'+score] =  all_scores[score].shift(-1)"
   ]
  },
  {
   "cell_type": "code",
   "execution_count": null,
   "metadata": {
    "collapsed": false
   },
   "outputs": [],
   "source": [
    "all_sites_scores = all_scores[all_scores['id'].notnull()]\n",
    "all_sites_null_scores = all_sites_scores[all_sites_scores['gwava_region_score'].isnull()]\n",
    "all_sites_notnull_scores = all_sites_scores[all_sites_scores['gwava_region_score'].notnull()]"
   ]
  },
  {
   "cell_type": "code",
   "execution_count": null,
   "metadata": {
    "collapsed": false
   },
   "outputs": [],
   "source": [
    "for score in ['gwava_region_score','gwava_tss_score','gwava_unmatched_score']:\n",
    "    all_sites_null_scores[score] = np.where(all_sites_null_scores['before_dist']<all_sites_null_scores['after_dist'],all_sites_null_scores['before_'+score],all_sites_null_scores['after_'+score])\n",
    "all_sites_null_scores.drop(all_sites_null_scores.columns[[6,7,8,9,10,11,12,13]],axis=1,inplace=True)\n",
    "all_sites_notnull_scores.drop(all_sites_notnull_scores.columns[[6,7,8,9,10,11,12,13]],axis=1,inplace=True)\n",
    "gwava_at_targets = pd.concat([all_sites_notnull_scores,all_sites_null_scores],ignore_index=True).sort_values(['chr','coordinate'])"
   ]
  },
  {
   "cell_type": "code",
   "execution_count": null,
   "metadata": {
    "collapsed": false
   },
   "outputs": [],
   "source": [
    "gwava_at_targets.drop(['after_gwava_unmatched_score'],axis=1,inplace=True)"
   ]
  },
  {
   "cell_type": "code",
   "execution_count": null,
   "metadata": {
    "collapsed": false
   },
   "outputs": [],
   "source": [
    "gwava_at_targets"
   ]
  },
  {
   "cell_type": "code",
   "execution_count": null,
   "metadata": {
    "collapsed": false
   },
   "outputs": [],
   "source": [
    "with pd.HDFStore(additional_feature_file,'a') as h5s:\n",
    "    h5s['GWAVA'] = gwava_at_targets"
   ]
  }
 ],
 "metadata": {
  "kernelspec": {
   "display_name": "Python 3",
   "language": "python",
   "name": "python3"
  },
  "language_info": {
   "codemirror_mode": {
    "name": "ipython",
    "version": 3
   },
   "file_extension": ".py",
   "mimetype": "text/x-python",
   "name": "python",
   "nbconvert_exporter": "python",
   "pygments_lexer": "ipython3",
   "version": "3.5.4"
  }
 },
 "nbformat": 4,
 "nbformat_minor": 2
}
