{
 "cells": [
  {
   "cell_type": "code",
   "execution_count": 1,
   "metadata": {
    "collapsed": false
   },
   "outputs": [],
   "source": [
    "import os\n",
    "import sys\n",
    "from common import commons\n",
    "home = commons.home\n",
    "extra_storage = commons.extra_storage\n",
    "from features_preprocess import BED_binning\n",
    "from features_preprocess import BED_Preprocess, CADD_Preprocess,DANN_Preprocess,Eigen_Preprocess,GenoCanyon_Preprocess,WGBS_preprocess\n",
    "import subprocess\n",
    "import get_winid"
   ]
  },
  {
   "cell_type": "code",
   "execution_count": 2,
   "metadata": {
    "collapsed": false
   },
   "outputs": [],
   "source": [
    "dataset = 'AD_CpG' # AD_CpG or Cd\n",
    "if dataset == 'AD_CpG':\n",
    "    type_name = commons.type_name  ## amyloid, cerad, tangles\n",
    "    with_cell_type = commons.with_cell_type ## with or without\n",
    "    dataset = dataset+'/'+type_name+with_cell_type\n",
    "sites_file = home+'data/'+dataset+'/all_sites_winid.csv'\n",
    "additional_feature_file = home+'data/features/'+dataset+'/addtional_features'"
   ]
  },
  {
   "cell_type": "code",
   "execution_count": 3,
   "metadata": {
    "collapsed": false
   },
   "outputs": [
    {
     "data": {
      "text/plain": [
       "'AD_CpG/amyloidwith'"
      ]
     },
     "execution_count": 3,
     "metadata": {},
     "output_type": "execute_result"
    }
   ],
   "source": [
    "dataset"
   ]
  },
  {
   "cell_type": "code",
   "execution_count": 4,
   "metadata": {
    "collapsed": false
   },
   "outputs": [
    {
     "data": {
      "text/plain": [
       "0"
      ]
     },
     "execution_count": 4,
     "metadata": {},
     "output_type": "execute_result"
    }
   ],
   "source": [
    "subprocess.call([home+'code/features_preprocess/Feature_export.R',dataset])"
   ]
  },
  {
   "cell_type": "code",
   "execution_count": 4,
   "metadata": {
    "collapsed": false
   },
   "outputs": [
    {
     "name": "stdout",
     "output_type": "stream",
     "text": [
      "/ENCFF003JVR is done\n",
      "/ENCFF043NUK is done\n",
      "/ENCFF064GJQ is done\n",
      "/ENCFF092FNE is done\n",
      "/ENCFF103DNU is done\n",
      "/ENCFF116DGM is done\n",
      "/ENCFF121VIX is done\n",
      "/ENCFF121ZES is done\n",
      "/ENCFF164EAU is done\n",
      "/ENCFF168HTX is done\n",
      "/ENCFF179VKR is done\n",
      "/ENCFF189WPY is done\n",
      "/ENCFF200MJQ is done\n",
      "/ENCFF210XTE is done\n",
      "/ENCFF219GCQ is done\n",
      "/ENCFF223LJW is done\n",
      "/ENCFF247ILV is done\n",
      "/ENCFF254DBF is done\n",
      "/ENCFF266NGW is done\n",
      "/ENCFF279HCL is done\n",
      "/ENCFF297CJG is done\n",
      "/ENCFF303ZGP is done\n",
      "/ENCFF315ZJB is done\n",
      "/ENCFF318AMC is done\n",
      "/ENCFF331VRY is done\n",
      "/ENCFF333OHK is done\n",
      "/ENCFF355UVU is done\n",
      "/ENCFF366UWF is done\n",
      "/ENCFF428TVT is done\n",
      "/ENCFF459EEM is done\n",
      "/ENCFF477AUC is done\n",
      "/ENCFF477GKI is done\n",
      "/ENCFF479QJK is done\n",
      "/ENCFF487XOB is done\n",
      "/ENCFF489CEV is done\n",
      "/ENCFF500DKA is done\n",
      "/ENCFF510EMT is done\n",
      "/ENCFF511FUP is done\n",
      "/ENCFF513ITC is done\n",
      "/ENCFF536RSX is done\n",
      "/ENCFF545MIY is done\n",
      "/ENCFF550FZT is done\n",
      "/ENCFF553HJV is done\n",
      "/ENCFF560SMW is done\n",
      "/ENCFF575GIN is done\n",
      "/ENCFF601NBW is done\n",
      "/ENCFF623RHB is done\n",
      "/ENCFF625GVK is done\n",
      "/ENCFF645AZF is done\n",
      "/ENCFF672QKY is done\n",
      "/ENCFF696OLO is done\n",
      "/ENCFF699GKH is done\n",
      "/ENCFF699KTW is done\n",
      "/ENCFF699RBP is done\n",
      "/ENCFF714SUO is done\n",
      "/ENCFF715DMX is done\n",
      "/ENCFF733EFJ is done\n",
      "/ENCFF748MTS is done\n",
      "/ENCFF770UYJ is done\n",
      "/ENCFF774GXJ is done\n",
      "/ENCFF782JXT is done\n",
      "/ENCFF804NTQ is done\n",
      "/ENCFF826PSA is done\n",
      "/ENCFF835NTC is done\n",
      "/ENCFF837SXM is done\n",
      "/ENCFF842MHJ is done\n",
      "/ENCFF844EFX is done\n",
      "/ENCFF867JRG is done\n",
      "/ENCFF913UZU is done\n",
      "/ENCFF918PML is done\n",
      "/ENCFF937OSM is done\n",
      "/ENCFF940XWW is done\n",
      "/ENCFF943XTA is done\n",
      "/ENCFF959WCA is done\n",
      "/ENCFF975CVU is done\n",
      "/NCFF005TID is done\n",
      "/NCFF027KTR is done\n",
      "/NCFF039JFT is done\n",
      "/NCFF110AZO is done\n",
      "/NCFF122LEF is done\n",
      "/NCFF157POM is done\n",
      "/NCFF171ZRJ is done\n",
      "/NCFF186EKM is done\n",
      "/NCFF215CKT is done\n",
      "/NCFF216DJL is done\n",
      "/NCFF232JGO is done\n",
      "/NCFF241AQC is done\n",
      "/NCFF256WDR is done\n",
      "/NCFF288YTY is done\n",
      "/NCFF369YQW is done\n",
      "/NCFF390OZB is done\n",
      "/NCFF392XPZ is done\n",
      "/NCFF398SLL is done\n",
      "/NCFF416ESQ is done\n",
      "/NCFF435ETE is done\n",
      "/NCFF435SPL is done\n",
      "/NCFF437OKM is done\n",
      "/NCFF451WIY is done\n",
      "/NCFF455TQO is done\n",
      "/NCFF497IYX is done\n",
      "/NCFF497YOO is done\n",
      "/NCFF517AOL is done\n",
      "/NCFF521DHD is done\n",
      "/NCFF526PFA is done\n",
      "/NCFF532ZCC is done\n",
      "/NCFF534RNT is done\n",
      "/NCFF588ETU is done\n",
      "/NCFF588IUK is done\n",
      "/NCFF618WAT is done\n",
      "/NCFF638QVP is done\n",
      "/NCFF684JHX is done\n",
      "/NCFF692JTJ is done\n",
      "/NCFF721JMB is done\n",
      "/NCFF730NQT is done\n",
      "/NCFF731IOY is done\n",
      "/NCFF752NXS is done\n",
      "/NCFF763RUE is done\n",
      "/NCFF774VLD is done\n",
      "/NCFF795DNO is done\n",
      "/NCFF801OHX is done\n",
      "/NCFF811QOG is done\n",
      "/NCFF831OYO is done\n",
      "/NCFF843SYR is done\n",
      "/NCFF847OWL is done\n",
      "/NCFF874GGB is done\n",
      "/NCFF913ZNZ is done\n",
      "/NCFF923CZC is done\n"
     ]
    }
   ],
   "source": [
    "#windows of WGBS\n",
    "#all_wgbs_sites_file = home+'data/WGBS/all_wgbs_sites_winid.csv'\n",
    "#WGBS_h5s = home+'data/WGBS_H5S'\n",
    "#if os.path.exists(WGBS_h5s):\n",
    "    #WGBS_process = BED_Preprocess.BED_Preprocessing(h5s_file=WGBS_h5s,sites_file=sites_file,additional_feature_file=additional_feature_file,data_type='WGBS')\n",
    "    #WGBS_process.process()\n",
    "#else:\n",
    "    #WGBS_binning = BED_binning.BED_binning(data_type='WGBS',data_dir=extra_storage+'WGBS/',output=WGBS_h5s,win_path=all_wgbs_sites_file,sorted=True)\n",
    "    #WGBS_binning.binning()\n",
    "    #WGBS_process = BED_Preprocess.BED_Preprocessing(h5s_file=WGBS_h5s,sites_file=sites_file,additional_feature_file=additional_feature_file,data_type='WGBS')\n",
    "    #WGBS_process.process()"
   ]
  },
  {
   "cell_type": "code",
   "execution_count": 4,
   "metadata": {
    "collapsed": false,
    "scrolled": true
   },
   "outputs": [
    {
     "name": "stdout",
     "output_type": "stream",
     "text": [
      "/ENCFF003JVR is done\n",
      "/ENCFF043NUK is done\n",
      "/ENCFF064GJQ is done\n",
      "/ENCFF092FNE is done\n",
      "/ENCFF103DNU is done\n",
      "/ENCFF116DGM is done\n",
      "/ENCFF121VIX is done\n",
      "/ENCFF121ZES is done\n",
      "/ENCFF164EAU is done\n",
      "/ENCFF168HTX is done\n",
      "/ENCFF179VKR is done\n",
      "/ENCFF189WPY is done\n",
      "/ENCFF200MJQ is done\n",
      "/ENCFF210XTE is done\n",
      "/ENCFF219GCQ is done\n",
      "/ENCFF223LJW is done\n",
      "/ENCFF247ILV is done\n",
      "/ENCFF254DBF is done\n",
      "/ENCFF266NGW is done\n",
      "/ENCFF279HCL is done\n",
      "/ENCFF297CJG is done\n",
      "/ENCFF303ZGP is done\n",
      "/ENCFF315ZJB is done\n",
      "/ENCFF318AMC is done\n",
      "/ENCFF331VRY is done\n",
      "/ENCFF333OHK is done\n",
      "/ENCFF355UVU is done\n",
      "/ENCFF366UWF is done\n",
      "/ENCFF428TVT is done\n",
      "/ENCFF459EEM is done\n",
      "/ENCFF477AUC is done\n",
      "/ENCFF477GKI is done\n",
      "/ENCFF479QJK is done\n",
      "/ENCFF487XOB is done\n",
      "/ENCFF489CEV is done\n",
      "/ENCFF500DKA is done\n",
      "/ENCFF510EMT is done\n",
      "/ENCFF511FUP is done\n",
      "/ENCFF513ITC is done\n",
      "/ENCFF536RSX is done\n",
      "/ENCFF545MIY is done\n",
      "/ENCFF550FZT is done\n",
      "/ENCFF553HJV is done\n",
      "/ENCFF560SMW is done\n",
      "/ENCFF575GIN is done\n",
      "/ENCFF601NBW is done\n",
      "/ENCFF623RHB is done\n",
      "/ENCFF625GVK is done\n",
      "/ENCFF645AZF is done\n",
      "/ENCFF672QKY is done\n",
      "/ENCFF696OLO is done\n",
      "/ENCFF699GKH is done\n",
      "/ENCFF699KTW is done\n",
      "/ENCFF699RBP is done\n",
      "/ENCFF714SUO is done\n",
      "/ENCFF715DMX is done\n",
      "/ENCFF733EFJ is done\n",
      "/ENCFF748MTS is done\n",
      "/ENCFF770UYJ is done\n",
      "/ENCFF774GXJ is done\n",
      "/ENCFF782JXT is done\n",
      "/ENCFF804NTQ is done\n",
      "/ENCFF826PSA is done\n",
      "/ENCFF835NTC is done\n",
      "/ENCFF837SXM is done\n",
      "/ENCFF842MHJ is done\n",
      "/ENCFF844EFX is done\n",
      "/ENCFF867JRG is done\n",
      "/ENCFF913UZU is done\n",
      "/ENCFF918PML is done\n",
      "/ENCFF937OSM is done\n",
      "/ENCFF940XWW is done\n",
      "/ENCFF943XTA is done\n",
      "/ENCFF959WCA is done\n",
      "/ENCFF975CVU is done\n",
      "/NCFF005TID is done\n",
      "/NCFF027KTR is done\n",
      "/NCFF039JFT is done\n",
      "/NCFF110AZO is done\n",
      "/NCFF122LEF is done\n",
      "/NCFF157POM is done\n",
      "/NCFF171ZRJ is done\n",
      "/NCFF186EKM is done\n",
      "/NCFF215CKT is done\n",
      "/NCFF216DJL is done\n",
      "/NCFF232JGO is done\n",
      "/NCFF241AQC is done\n",
      "/NCFF256WDR is done\n",
      "/NCFF288YTY is done\n",
      "/NCFF369YQW is done\n",
      "/NCFF390OZB is done\n",
      "/NCFF392XPZ is done\n",
      "/NCFF398SLL is done\n",
      "/NCFF416ESQ is done\n",
      "/NCFF435ETE is done\n",
      "/NCFF435SPL is done\n",
      "/NCFF437OKM is done\n",
      "/NCFF451WIY is done\n",
      "/NCFF455TQO is done\n",
      "/NCFF497IYX is done\n",
      "/NCFF497YOO is done\n",
      "/NCFF517AOL is done\n",
      "/NCFF521DHD is done\n",
      "/NCFF526PFA is done\n",
      "/NCFF532ZCC is done\n",
      "/NCFF534RNT is done\n",
      "/NCFF588ETU is done\n",
      "/NCFF588IUK is done\n",
      "/NCFF618WAT is done\n",
      "/NCFF638QVP is done\n",
      "/NCFF684JHX is done\n",
      "/NCFF692JTJ is done\n",
      "/NCFF721JMB is done\n",
      "/NCFF730NQT is done\n",
      "/NCFF731IOY is done\n",
      "/NCFF752NXS is done\n",
      "/NCFF763RUE is done\n",
      "/NCFF774VLD is done\n",
      "/NCFF795DNO is done\n",
      "/NCFF801OHX is done\n",
      "/NCFF811QOG is done\n",
      "/NCFF831OYO is done\n",
      "/NCFF843SYR is done\n",
      "/NCFF847OWL is done\n",
      "/NCFF874GGB is done\n",
      "/NCFF913ZNZ is done\n",
      "/NCFF923CZC is done\n"
     ]
    }
   ],
   "source": [
    "#single sites WGBS\n",
    "all_wgbs_sites_file = home+'data/WGBS/all_wgbs_sites_winid.csv'\n",
    "WGBS_h5s = home+'data/WGBS_single_H5S'\n",
    "WGBS_proc = WGBS_preprocess.WGBS_Preprocess(h5s_file=WGBS_h5s,data_dir=extra_storage+'WGBS/',sites_file=sites_file,additional_feature_file=additional_feature_file,hg19_file= home+'data/WGBS/hg19_WGBS.csv')\n",
    "if not os.path.exists(WGBS_h5s):\n",
    "    WGBS_proc.process()\n",
    "WGBS_proc.scores()"
   ]
  },
  {
   "cell_type": "code",
   "execution_count": 5,
   "metadata": {
    "collapsed": false,
    "scrolled": true
   },
   "outputs": [
    {
     "name": "stdout",
     "output_type": "stream",
     "text": [
      "/ENCFF048IOT is done\n",
      "/ENCFF049DWX is done\n",
      "/ENCFF069SZE is done\n",
      "/ENCFF086TID is done\n",
      "/ENCFF105ASY is done\n",
      "/ENCFF111ULL is done\n",
      "/ENCFF114WRE is done\n",
      "/ENCFF135RTS is done\n",
      "/ENCFF159RKV is done\n",
      "/ENCFF168OTV is done\n",
      "/ENCFF205KDV is done\n",
      "/ENCFF217OUE is done\n",
      "/ENCFF277DNH is done\n",
      "/ENCFF293BRN is done\n",
      "/ENCFF294ZCT is done\n",
      "/ENCFF305PRP is done\n",
      "/ENCFF310VHO is done\n",
      "/ENCFF325VEG is done\n",
      "/ENCFF372HEU is done\n",
      "/ENCFF374OSU is done\n",
      "/ENCFF374VWZ is done\n",
      "/ENCFF377DAO is done\n",
      "/ENCFF388DNI is done\n",
      "/ENCFF429JLL is done\n",
      "/ENCFF436NOT is done\n",
      "/ENCFF468QNB is done\n",
      "/ENCFF469OER is done\n",
      "/ENCFF478ARL is done\n",
      "/ENCFF479UTZ is done\n",
      "/ENCFF482CAN is done\n",
      "/ENCFF482HAC is done\n",
      "/ENCFF585YAB is done\n",
      "/ENCFF588PIS is done\n",
      "/ENCFF592ALR is done\n",
      "/ENCFF607XLB is done\n",
      "/ENCFF608BWH is done\n",
      "/ENCFF628MCV is done\n",
      "/ENCFF629VEK is done\n",
      "/ENCFF654ZNI is done\n",
      "/ENCFF656OYT is done\n",
      "/ENCFF670GFY is done\n",
      "/ENCFF675QOY is done\n",
      "/ENCFF678AIF is done\n",
      "/ENCFF682RLN is done\n",
      "/ENCFF692DLP is done\n",
      "/ENCFF710ELD is done\n",
      "/ENCFF711SUI is done\n",
      "/ENCFF733PNQ is done\n",
      "/ENCFF736KFN is done\n",
      "/ENCFF739KYO is done\n",
      "/ENCFF762MNF is done\n",
      "/ENCFF764CQI is done\n",
      "/ENCFF765DRX is done\n",
      "/ENCFF768UMR is done\n",
      "/ENCFF778VJL is done\n",
      "/ENCFF780JBA is done\n",
      "/ENCFF782KTJ is done\n",
      "/ENCFF784DSJ is done\n",
      "/ENCFF787DUW is done\n",
      "/ENCFF799HAR is done\n",
      "/ENCFF829XME is done\n",
      "/ENCFF830XMY is done\n",
      "/ENCFF832AIE is done\n",
      "/ENCFF845HFA is done\n",
      "/ENCFF846JID is done\n",
      "/ENCFF858PLS is done\n",
      "/ENCFF885IPV is done\n",
      "/ENCFF900AMT is done\n",
      "/ENCFF906UQF is done\n",
      "/ENCFF907NVD is done\n",
      "/ENCFF912HGK is done\n",
      "/ENCFF912PKL is done\n",
      "/ENCFF927PPE is done\n",
      "/ENCFF984OPE is done\n"
     ]
    },
    {
     "name": "stderr",
     "output_type": "stream",
     "text": [
      "/home/ec2-user/anaconda3/envs/py3.6/lib/python3.6/site-packages/ipykernel/__main__.py:4: PerformanceWarning: \n",
      "your performance may suffer as PyTables will pickle object types that it cannot\n",
      "map directly to c-types [inferred_type->integer,key->block1_values] [items->['winid']]\n",
      "\n"
     ]
    }
   ],
   "source": [
    "ATAC_h5s = home+'data/ATAC_H5S'\n",
    "if os.path.exists(ATAC_h5s):\n",
    "    atac_process = BED_Preprocess.BED_Preprocessing(h5s_file=ATAC_h5s,sites_file=sites_file,additional_feature_file=additional_feature_file,data_type='ATAC')\n",
    "    atac_process.process()\n",
    "else:\n",
    "    atac_binning = BED_binning.BED_binning(data_type='ATAC',data_dir=extra_storage+'ATAC/',output=ATAC_h5s,sorted=True)\n",
    "    atac_binning.binning()\n",
    "    atac_process = BED_Preprocess.BED_Preprocessing(h5s_file=ATAC_h5s,sites_file=sites_file,additional_feature_file=additional_feature_file,data_type='ATAC')\n",
    "    atac_process.process()    "
   ]
  },
  {
   "cell_type": "code",
   "execution_count": 6,
   "metadata": {
    "collapsed": false,
    "scrolled": true
   },
   "outputs": [
    {
     "name": "stdout",
     "output_type": "stream",
     "text": [
      "/ENCFF000HGE is done\n",
      "/ENCFF016ARQ is done\n",
      "/ENCFF984YOJ is done\n",
      "/ENCFF934GLU is done\n",
      "/ENCFF254TPI is done\n",
      "/ENCFF749IFE is done\n",
      "/ENCFF369DYD is done\n",
      "/ENCFF280SGM is done\n",
      "/ENCFF028DDF is done\n",
      "/ENCFF054FEC is done\n",
      "/ENCFF902VJF is done\n",
      "/ENCFF000HGF is done\n",
      "/ENCFF549UBP is done\n",
      "/ENCFF997MIE is done\n",
      "/ENCFF170YVW is done\n",
      "/ENCFF422EVZ is done\n",
      "/ENCFF226QAW is done\n",
      "/ENCFF269JPQ is done\n",
      "/ENCFF658SRY is done\n",
      "/ENCFF523EQM is done\n",
      "/ENCFF839OMU is done\n",
      "/ENCFF436WXH is done\n",
      "/ENCFF901GJD is done\n",
      "/ENCFF370ZLG is done\n",
      "/ENCFF097NUI is done\n",
      "/ENCFF955THM is done\n",
      "/ENCFF081MWH is done\n",
      "/ENCFF822SCG is done\n",
      "/ENCFF380FFO is done\n",
      "/ENCFF303BKD is done\n",
      "/ENCFF158LBE is done\n",
      "/ENCFF232AJD is done\n",
      "/ENCFF818RWN is done\n",
      "/ENCFF677JVE is done\n",
      "/ENCFF022AJB is done\n",
      "/ENCFF455QWU is done\n",
      "/ENCFF198UFI is done\n",
      "/ENCFF723ZMR is done\n",
      "/ENCFF301ROZ is done\n",
      "/ENCFF888ZFS is done\n",
      "/ENCFF105THO is done\n",
      "/ENCFF760IDU is done\n",
      "/ENCFF624VBI is done\n",
      "/ENCFF552FTX is done\n",
      "/ENCFF623UTC is done\n",
      "/ENCFF535JQR is done\n"
     ]
    },
    {
     "name": "stderr",
     "output_type": "stream",
     "text": [
      "/home/ec2-user/anaconda3/envs/py3.6/lib/python3.6/site-packages/ipykernel/__main__.py:4: PerformanceWarning: \n",
      "your performance may suffer as PyTables will pickle object types that it cannot\n",
      "map directly to c-types [inferred_type->integer,key->block1_values] [items->['winid']]\n",
      "\n"
     ]
    }
   ],
   "source": [
    "RNASeq_h5s = home+'data/RNASeq/'\n",
    "if len(os.listdir(RNASeq_h5s))>0:\n",
    "    rnaseq_process = BED_Preprocess.BED_Preprocessing(h5s_file=RNASeq_h5s,sites_file=sites_file,additional_feature_file=additional_feature_file, data_type='RNASeq')\n",
    "    rnaseq_process.process()\n",
    "else:\n",
    "    subprocess.call(['python',home+'code/feature_preprocess/RNASeq_binning.py'])\n",
    "    rnaseq_process = BED_Preprocess.BED_Preprocessing(h5s_file=RNASeq_h5s,sites_file=sites_file,additional_feature_file=additional_feature_file, data_type='RNASeq')\n",
    "    rnaseq_process.process()"
   ]
  },
  {
   "cell_type": "code",
   "execution_count": 10,
   "metadata": {
    "collapsed": false
   },
   "outputs": [
    {
     "name": "stdout",
     "output_type": "stream",
     "text": [
      "['13', 45945296, 0.550885, 0.44868233333333335, 7.809, 6.9430000000000005]\n"
     ]
    }
   ],
   "source": [
    "cadd_preprocess = CADD_Preprocess.CADD_Preprocess(sites_file=sites_file,additional_feature_file=additional_feature_file)\n",
    "cadd_preprocess.process()"
   ]
  },
  {
   "cell_type": "code",
   "execution_count": 8,
   "metadata": {
    "collapsed": false
   },
   "outputs": [
    {
     "name": "stdout",
     "output_type": "stream",
     "text": [
      "['13', 45945296, 0.9497438925906243, 0.8045020443018784]\n"
     ]
    }
   ],
   "source": [
    "dann_preprocess = DANN_Preprocess.DANN_Preprocess(sites_file=sites_file,additional_feature_file=additional_feature_file)\n",
    "dann_preprocess.process()"
   ]
  },
  {
   "cell_type": "code",
   "execution_count": 9,
   "metadata": {
    "collapsed": false
   },
   "outputs": [
    {
     "name": "stdout",
     "output_type": "stream",
     "text": [
      "['13', 45945296, -0.221752569752451, -0.22175256975245103, 4.85036, 4.85036, 0.566985643800931, 0.566985643800931, 13.0943, 13.094299999999999]\n"
     ]
    }
   ],
   "source": [
    "eigen_preprocess = Eigen_Preprocess.Eigen_Preprocess(sites_file=sites_file,additional_feature_file=additional_feature_file)\n",
    "eigen_preprocess.process()"
   ]
  },
  {
   "cell_type": "code",
   "execution_count": null,
   "metadata": {
    "collapsed": false
   },
   "outputs": [],
   "source": [
    "genocanyon_scores = extra_storage+'GenoCanyon/Results/'+dataset+'/selected_site_scores.txt'\n",
    "data_dir=extra_storage+'GenoCanyon/Results/'+dataset+'/'\n",
    "if os.path.exists(genocanyon_scores):\n",
    "    genocanyon_preprocess = GenoCanyon_Preprocess.GenoCanyon_Preprocess(data_dir=data_dir,sites_file=sites_file,additional_feature_file=additional_feature_file)\n",
    "    genocanyon_preprocess.process()\n",
    "else:\n",
    "    print('Run GenoCanyon R script first')"
   ]
  },
  {
   "cell_type": "code",
   "execution_count": null,
   "metadata": {
    "collapsed": true
   },
   "outputs": [],
   "source": []
  }
 ],
 "metadata": {
  "kernelspec": {
   "display_name": "Python 3",
   "language": "python",
   "name": "python3"
  },
  "language_info": {
   "codemirror_mode": {
    "name": "ipython",
    "version": 3
   },
   "file_extension": ".py",
   "mimetype": "text/x-python",
   "name": "python",
   "nbconvert_exporter": "python",
   "pygments_lexer": "ipython3",
   "version": "3.6.4"
  }
 },
 "nbformat": 4,
 "nbformat_minor": 2
}
