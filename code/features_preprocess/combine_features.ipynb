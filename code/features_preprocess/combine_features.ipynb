{
 "cells": [
  {
   "cell_type": "code",
   "execution_count": 1,
   "metadata": {
    "collapsed": true
   },
   "outputs": [],
   "source": [
    "import pandas as pd\n",
    "import numpy as np\n",
    "import sys\n",
    "from common import commons\n",
    "home = commons.home\n",
    "from features_preprocess import get_winid\n",
    "import os\n",
    "import re"
   ]
  },
  {
   "cell_type": "code",
   "execution_count": 2,
   "metadata": {
    "collapsed": true
   },
   "outputs": [],
   "source": [
    "def nearest_tss(tss,sites_df):\n",
    "    merged = pd.merge(sites_df,tss,how='outer',on=['chr','coordinate'])\n",
    "    merged.sort_values(['chr','coordinate'],inplace=True)\n",
    "    merged.rename(columns={'strand':'before_tss'},inplace=True)\n",
    "    merged.ix[merged['before_tss'].isnull()==False, 'before_tss'] = merged.ix[merged['before_tss'].isnull()==False,'coordinate']\n",
    "    merged['after_tss'] = merged['before_tss']\n",
    "    merged['before_tss'].fillna(method='ffill', inplace=True)\n",
    "    merged['after_tss'].fillna(method='bfill',inplace=True)\n",
    "    merged['dist_to_before_tss'] = np.abs(merged['coordinate']-merged['before_tss'])\n",
    "    merged['dist_to_after_tss'] = np.abs(merged['coordinate']-merged['after_tss'])\n",
    "    merged['tss'] = None\n",
    "    before_ix = (merged['dist_to_before_tss'] < merged['dist_to_after_tss']) | (merged['dist_to_after_tss'].isnull())\n",
    "    merged.ix[before_ix,'tss'] = merged.ix[before_ix,'before_tss']\n",
    "    after_ix = (merged['dist_to_before_tss'] >= merged['dist_to_after_tss']) | (merged['dist_to_before_tss'].isnull())\n",
    "    merged.ix[after_ix,'tss'] = merged.ix[after_ix,'after_tss']\n",
    "    merged['dist_to_nearest_tss'] = np.abs(merged['coordinate']-merged['tss']) \n",
    "    merged.dropna(axis=0,subset=['id'],inplace=True)\n",
    "    return merged\n",
    "\n",
    "def rename_features(x):   #rename repetitive features\n",
    "    features = np.array(x.columns)\n",
    "    features_count = pd.Series(index=x.columns.unique())\n",
    "    features_count = features_count.fillna(int(0))\n",
    "    for i,name in enumerate(x.columns):\n",
    "        if features_count[name] == 0:\n",
    "            features_count[name] += 1\n",
    "        else:\n",
    "            features[i] = name+str(features_count[name])\n",
    "            features_count[name] += 1\n",
    "    x.columns = features\n",
    "    return "
   ]
  },
  {
   "cell_type": "code",
   "execution_count": 3,
   "metadata": {
    "collapsed": false
   },
   "outputs": [],
   "source": [
    "dataset = 'AD_CpG/'\n",
    "with pd.HDFStore(home+'data/'+dataset+'all_sites_winid','r') as h5s:\n",
    "    all_sites = h5s['all_sites_winid']\n",
    "all_sites.reset_index(drop=True,inplace=True)"
   ]
  },
  {
   "cell_type": "code",
   "execution_count": 4,
   "metadata": {
    "collapsed": false
   },
   "outputs": [],
   "source": [
    "feature_dir = home+'data/features/'+dataset\n",
    "files = os.listdir(feature_dir)\n",
    "pattern = '.*all.csv$'\n",
    "reg = re.compile(pattern)\n",
    "files = [name for name in files if len(reg.findall(name))>0]\n",
    "\n",
    "\n"
   ]
  },
  {
   "cell_type": "code",
   "execution_count": 5,
   "metadata": {
    "collapsed": false
   },
   "outputs": [
    {
     "name": "stdout",
     "output_type": "stream",
     "text": [
      "31\n",
      "267\n",
      "317\n",
      "73\n",
      "80\n",
      "735\n",
      "303\n"
     ]
    }
   ],
   "source": [
    "for file in files:    \n",
    "    feature = pd.read_csv(feature_dir+file)\n",
    "    print(len(feature.columns))\n",
    "    all_sites = pd.concat([all_sites,feature],axis=1)"
   ]
  },
  {
   "cell_type": "code",
   "execution_count": 6,
   "metadata": {
    "collapsed": false
   },
   "outputs": [],
   "source": [
    "rename_features(all_sites)"
   ]
  },
  {
   "cell_type": "code",
   "execution_count": 7,
   "metadata": {
    "collapsed": false
   },
   "outputs": [
    {
     "data": {
      "text/plain": [
       "(1556, 1816)"
      ]
     },
     "execution_count": 7,
     "metadata": {},
     "output_type": "execute_result"
    }
   ],
   "source": [
    "all_sites.shape"
   ]
  },
  {
   "cell_type": "code",
   "execution_count": 8,
   "metadata": {
    "collapsed": false
   },
   "outputs": [],
   "source": [
    "all_sites.drop(['start','end'],axis=1,inplace=True)"
   ]
  },
  {
   "cell_type": "code",
   "execution_count": 9,
   "metadata": {
    "collapsed": false
   },
   "outputs": [],
   "source": [
    "additional_features = ['ATAC','CADD','DANN','Eigen','GenoCanyon','RNASeq']\n",
    "#merge with additional features\n",
    "with pd.HDFStore(feature_dir+'addtional_features','r') as h5s:\n",
    "    for feature in additional_features:\n",
    "        feature_frame = h5s[feature]\n",
    "        all_sites = pd.concat([all_sites,feature_frame],axis=1)\n",
    "all_sites = all_sites.loc[:,~all_sites.columns.duplicated()]\n",
    "all_sites['chr'] = all_sites['chr'].astype('i8')"
   ]
  },
  {
   "cell_type": "code",
   "execution_count": 10,
   "metadata": {
    "collapsed": true
   },
   "outputs": [],
   "source": [
    "with pd.HDFStore(feature_dir+'addtional_features','r') as h5s:\n",
    "    geno_caynon = h5s['GenoCanyon']"
   ]
  },
  {
   "cell_type": "code",
   "execution_count": 11,
   "metadata": {
    "collapsed": false
   },
   "outputs": [
    {
     "name": "stdout",
     "output_type": "stream",
     "text": [
      "['1', '2', '3', '4', '5', '6', '7', '8', '9', '10', '11', '12', '13', '14', '15', '16', '17', '18', '19', '20', '21', '22']\n",
      "1     chr1\n",
      "2     chr1\n",
      "3     chr1\n",
      "4     chr1\n",
      "5     chr1\n",
      "6     chr1\n",
      "7     chr1\n",
      "8     chr1\n",
      "9     chr1\n",
      "10    chr1\n",
      "Name: chr, dtype: object\n"
     ]
    },
    {
     "name": "stderr",
     "output_type": "stream",
     "text": [
      "/home/ec2-user/anaconda3/envs/py3.6/lib/python3.6/site-packages/ipykernel/__main__.py:5: DeprecationWarning: \n",
      ".ix is deprecated. Please use\n",
      ".loc for label based indexing or\n",
      ".iloc for positional indexing\n",
      "\n",
      "See the documentation here:\n",
      "http://pandas.pydata.org/pandas-docs/stable/indexing.html#ix-indexer-is-deprecated\n"
     ]
    }
   ],
   "source": [
    "#nearest tss distance    \n",
    "chrs = all_sites['chr'].unique()\n",
    "cols=['chr', 'coordinate','strand']\n",
    "tss =  pd.read_csv(home+'tss.txt',sep='\\s+',header=None,names=cols,skiprows=1)\n",
    "tss = get_winid.convert_chr_to_num(tss,chrs)\n",
    "tss.sort_values(['chr','coordinate'],inplace=True)\n",
    "all_sites = nearest_tss(tss,all_sites)\n",
    "all_sites.drop(['before_tss','after_tss','tss','dist_to_before_tss','dist_to_after_tss'],axis=1,inplace=True)"
   ]
  },
  {
   "cell_type": "code",
   "execution_count": 12,
   "metadata": {
    "collapsed": false
   },
   "outputs": [],
   "source": [
    "with pd.HDFStore(home+'data/'+dataset+'all_features','w') as h5s:\n",
    "    h5s['all_features'] = all_sites"
   ]
  }
 ],
 "metadata": {
  "kernelspec": {
   "display_name": "Python 3",
   "language": "python",
   "name": "python3"
  },
  "language_info": {
   "codemirror_mode": {
    "name": "ipython",
    "version": 3
   },
   "file_extension": ".py",
   "mimetype": "text/x-python",
   "name": "python",
   "nbconvert_exporter": "python",
   "pygments_lexer": "ipython3",
   "version": "3.6.4"
  }
 },
 "nbformat": 4,
 "nbformat_minor": 2
}
